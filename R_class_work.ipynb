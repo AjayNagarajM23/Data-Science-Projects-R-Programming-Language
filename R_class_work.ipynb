{
 "cells": [
  {
   "attachments": {},
   "cell_type": "markdown",
   "metadata": {},
   "source": [
    "## DAY 1"
   ]
  },
  {
   "cell_type": "code",
   "execution_count": 15,
   "metadata": {
    "vscode": {
     "languageId": "r"
    }
   },
   "outputs": [
    {
     "data": {
      "text/html": [
       "<table class=\"dataframe\">\n",
       "<caption>A data.frame: 6 × 11</caption>\n",
       "<thead>\n",
       "\t<tr><th></th><th scope=col>id</th><th scope=col>gender</th><th scope=col>race</th><th scope=col>ses</th><th scope=col>schtyp</th><th scope=col>prog</th><th scope=col>read</th><th scope=col>write</th><th scope=col>math</th><th scope=col>science</th><th scope=col>socst</th></tr>\n",
       "\t<tr><th></th><th scope=col>&lt;int&gt;</th><th scope=col>&lt;chr&gt;</th><th scope=col>&lt;chr&gt;</th><th scope=col>&lt;chr&gt;</th><th scope=col>&lt;chr&gt;</th><th scope=col>&lt;chr&gt;</th><th scope=col>&lt;int&gt;</th><th scope=col>&lt;int&gt;</th><th scope=col>&lt;int&gt;</th><th scope=col>&lt;int&gt;</th><th scope=col>&lt;int&gt;</th></tr>\n",
       "</thead>\n",
       "<tbody>\n",
       "\t<tr><th scope=row>1</th><td> 70</td><td>male  </td><td>white</td><td>low   </td><td>public</td><td>general   </td><td>57</td><td>52</td><td>41</td><td>47</td><td>57</td></tr>\n",
       "\t<tr><th scope=row>2</th><td>121</td><td>female</td><td>white</td><td>middle</td><td>public</td><td>vocational</td><td>68</td><td>59</td><td>53</td><td>63</td><td>61</td></tr>\n",
       "\t<tr><th scope=row>3</th><td> 86</td><td>male  </td><td>white</td><td>high  </td><td>public</td><td>general   </td><td>44</td><td>33</td><td>54</td><td>58</td><td>31</td></tr>\n",
       "\t<tr><th scope=row>4</th><td>141</td><td>male  </td><td>white</td><td>high  </td><td>public</td><td>vocational</td><td>63</td><td>44</td><td>47</td><td>53</td><td>56</td></tr>\n",
       "\t<tr><th scope=row>5</th><td>172</td><td>male  </td><td>white</td><td>middle</td><td>public</td><td>academic  </td><td>47</td><td>52</td><td>57</td><td>53</td><td>61</td></tr>\n",
       "\t<tr><th scope=row>6</th><td>113</td><td>male  </td><td>white</td><td>middle</td><td>public</td><td>academic  </td><td>44</td><td>52</td><td>51</td><td>63</td><td>61</td></tr>\n",
       "</tbody>\n",
       "</table>\n"
      ],
      "text/latex": [
       "A data.frame: 6 × 11\n",
       "\\begin{tabular}{r|lllllllllll}\n",
       "  & id & gender & race & ses & schtyp & prog & read & write & math & science & socst\\\\\n",
       "  & <int> & <chr> & <chr> & <chr> & <chr> & <chr> & <int> & <int> & <int> & <int> & <int>\\\\\n",
       "\\hline\n",
       "\t1 &  70 & male   & white & low    & public & general    & 57 & 52 & 41 & 47 & 57\\\\\n",
       "\t2 & 121 & female & white & middle & public & vocational & 68 & 59 & 53 & 63 & 61\\\\\n",
       "\t3 &  86 & male   & white & high   & public & general    & 44 & 33 & 54 & 58 & 31\\\\\n",
       "\t4 & 141 & male   & white & high   & public & vocational & 63 & 44 & 47 & 53 & 56\\\\\n",
       "\t5 & 172 & male   & white & middle & public & academic   & 47 & 52 & 57 & 53 & 61\\\\\n",
       "\t6 & 113 & male   & white & middle & public & academic   & 44 & 52 & 51 & 63 & 61\\\\\n",
       "\\end{tabular}\n"
      ],
      "text/markdown": [
       "\n",
       "A data.frame: 6 × 11\n",
       "\n",
       "| <!--/--> | id &lt;int&gt; | gender &lt;chr&gt; | race &lt;chr&gt; | ses &lt;chr&gt; | schtyp &lt;chr&gt; | prog &lt;chr&gt; | read &lt;int&gt; | write &lt;int&gt; | math &lt;int&gt; | science &lt;int&gt; | socst &lt;int&gt; |\n",
       "|---|---|---|---|---|---|---|---|---|---|---|---|\n",
       "| 1 |  70 | male   | white | low    | public | general    | 57 | 52 | 41 | 47 | 57 |\n",
       "| 2 | 121 | female | white | middle | public | vocational | 68 | 59 | 53 | 63 | 61 |\n",
       "| 3 |  86 | male   | white | high   | public | general    | 44 | 33 | 54 | 58 | 31 |\n",
       "| 4 | 141 | male   | white | high   | public | vocational | 63 | 44 | 47 | 53 | 56 |\n",
       "| 5 | 172 | male   | white | middle | public | academic   | 47 | 52 | 57 | 53 | 61 |\n",
       "| 6 | 113 | male   | white | middle | public | academic   | 44 | 52 | 51 | 63 | 61 |\n",
       "\n"
      ],
      "text/plain": [
       "  id  gender race  ses    schtyp prog       read write math science socst\n",
       "1  70 male   white low    public general    57   52    41   47      57   \n",
       "2 121 female white middle public vocational 68   59    53   63      61   \n",
       "3  86 male   white high   public general    44   33    54   58      31   \n",
       "4 141 male   white high   public vocational 63   44    47   53      56   \n",
       "5 172 male   white middle public academic   47   52    57   53      61   \n",
       "6 113 male   white middle public academic   44   52    51   63      61   "
      ]
     },
     "metadata": {},
     "output_type": "display_data"
    }
   ],
   "source": [
    "hsbdemo = read.csv(\"hsb2.csv\")\n",
    "head(hsbdemo)"
   ]
  },
  {
   "cell_type": "code",
   "execution_count": 16,
   "metadata": {
    "vscode": {
     "languageId": "r"
    }
   },
   "outputs": [
    {
     "data": {
      "text/plain": [
       "        prog\n",
       "ses      academic general vocational\n",
       "  high         42       9          7\n",
       "  low          19      16         12\n",
       "  middle       44      20         31"
      ]
     },
     "metadata": {},
     "output_type": "display_data"
    }
   ],
   "source": [
    "with(hsbdemo, table(ses, prog))"
   ]
  },
  {
   "cell_type": "code",
   "execution_count": 17,
   "metadata": {
    "vscode": {
     "languageId": "r"
    }
   },
   "outputs": [
    {
     "data": {
      "text/html": [
       "<table class=\"dataframe\">\n",
       "<caption>A matrix: 3 × 2 of type dbl</caption>\n",
       "<thead>\n",
       "\t<tr><th></th><th scope=col>M</th><th scope=col>SD</th></tr>\n",
       "</thead>\n",
       "<tbody>\n",
       "\t<tr><th scope=row>academic</th><td>56.25714</td><td>7.943343</td></tr>\n",
       "\t<tr><th scope=row>general</th><td>51.33333</td><td>9.397775</td></tr>\n",
       "\t<tr><th scope=row>vocational</th><td>46.76000</td><td>9.318754</td></tr>\n",
       "</tbody>\n",
       "</table>\n"
      ],
      "text/latex": [
       "A matrix: 3 × 2 of type dbl\n",
       "\\begin{tabular}{r|ll}\n",
       "  & M & SD\\\\\n",
       "\\hline\n",
       "\tacademic & 56.25714 & 7.943343\\\\\n",
       "\tgeneral & 51.33333 & 9.397775\\\\\n",
       "\tvocational & 46.76000 & 9.318754\\\\\n",
       "\\end{tabular}\n"
      ],
      "text/markdown": [
       "\n",
       "A matrix: 3 × 2 of type dbl\n",
       "\n",
       "| <!--/--> | M | SD |\n",
       "|---|---|---|\n",
       "| academic | 56.25714 | 7.943343 |\n",
       "| general | 51.33333 | 9.397775 |\n",
       "| vocational | 46.76000 | 9.318754 |\n",
       "\n"
      ],
      "text/plain": [
       "           M        SD      \n",
       "academic   56.25714 7.943343\n",
       "general    51.33333 9.397775\n",
       "vocational 46.76000 9.318754"
      ]
     },
     "metadata": {},
     "output_type": "display_data"
    }
   ],
   "source": [
    "with(hsbdemo, do.call(rbind, tapply(write, prog, function(x) c(M = mean(x), SD = sd(x)))))"
   ]
  },
  {
   "cell_type": "code",
   "execution_count": 18,
   "metadata": {
    "vscode": {
     "languageId": "r"
    }
   },
   "outputs": [],
   "source": [
    "library(nnet)"
   ]
  },
  {
   "cell_type": "code",
   "execution_count": 20,
   "metadata": {
    "vscode": {
     "languageId": "r"
    }
   },
   "outputs": [
    {
     "name": "stdout",
     "output_type": "stream",
     "text": [
      "# weights:  15 (8 variable)\n",
      "initial  value 219.722458 \n",
      "iter  10 value 179.983731\n",
      "final  value 179.981726 \n",
      "converged\n"
     ]
    }
   ],
   "source": [
    "model1 <- multinom(prog ~ ses + write, data = hsbdemo)"
   ]
  },
  {
   "cell_type": "code",
   "execution_count": 21,
   "metadata": {
    "vscode": {
     "languageId": "r"
    }
   },
   "outputs": [
    {
     "data": {
      "text/plain": [
       "Call:\n",
       "multinom(formula = prog ~ ses + write, data = hsbdemo)\n",
       "\n",
       "Coefficients:\n",
       "           (Intercept)    seslow sesmiddle       write\n",
       "general       1.689478 1.1628411 0.6295638 -0.05793086\n",
       "vocational    4.235574 0.9827182 1.2740985 -0.11360389\n",
       "\n",
       "Std. Errors:\n",
       "           (Intercept)    seslow sesmiddle      write\n",
       "general       1.226939 0.5142211 0.4650289 0.02141101\n",
       "vocational    1.204690 0.5955688 0.5111119 0.02222000\n",
       "\n",
       "Residual Deviance: 359.9635 \n",
       "AIC: 375.9635 "
      ]
     },
     "metadata": {},
     "output_type": "display_data"
    }
   ],
   "source": [
    "summary(model1)"
   ]
  },
  {
   "cell_type": "code",
   "execution_count": 22,
   "metadata": {
    "vscode": {
     "languageId": "r"
    }
   },
   "outputs": [
    {
     "data": {
      "text/html": [
       "<table class=\"dataframe\">\n",
       "<caption>A matrix: 2 × 4 of type dbl</caption>\n",
       "<thead>\n",
       "\t<tr><th></th><th scope=col>(Intercept)</th><th scope=col>seslow</th><th scope=col>sesmiddle</th><th scope=col>write</th></tr>\n",
       "</thead>\n",
       "<tbody>\n",
       "\t<tr><th scope=row>general</th><td> 5.416653</td><td>3.199009</td><td>1.876792</td><td>0.9437152</td></tr>\n",
       "\t<tr><th scope=row>vocational</th><td>69.101326</td><td>2.671709</td><td>3.575477</td><td>0.8926115</td></tr>\n",
       "</tbody>\n",
       "</table>\n"
      ],
      "text/latex": [
       "A matrix: 2 × 4 of type dbl\n",
       "\\begin{tabular}{r|llll}\n",
       "  & (Intercept) & seslow & sesmiddle & write\\\\\n",
       "\\hline\n",
       "\tgeneral &  5.416653 & 3.199009 & 1.876792 & 0.9437152\\\\\n",
       "\tvocational & 69.101326 & 2.671709 & 3.575477 & 0.8926115\\\\\n",
       "\\end{tabular}\n"
      ],
      "text/markdown": [
       "\n",
       "A matrix: 2 × 4 of type dbl\n",
       "\n",
       "| <!--/--> | (Intercept) | seslow | sesmiddle | write |\n",
       "|---|---|---|---|---|\n",
       "| general |  5.416653 | 3.199009 | 1.876792 | 0.9437152 |\n",
       "| vocational | 69.101326 | 2.671709 | 3.575477 | 0.8926115 |\n",
       "\n"
      ],
      "text/plain": [
       "           (Intercept) seslow   sesmiddle write    \n",
       "general     5.416653   3.199009 1.876792  0.9437152\n",
       "vocational 69.101326   2.671709 3.575477  0.8926115"
      ]
     },
     "metadata": {},
     "output_type": "display_data"
    }
   ],
   "source": [
    "exp(coef(model1))"
   ]
  },
  {
   "attachments": {},
   "cell_type": "markdown",
   "metadata": {},
   "source": [
    "## DAY 2 - KNN Classification "
   ]
  },
  {
   "cell_type": "code",
   "execution_count": 5,
   "metadata": {
    "vscode": {
     "languageId": "r"
    }
   },
   "outputs": [
    {
     "name": "stderr",
     "output_type": "stream",
     "text": [
      "Installing package into ‘/home/ajaynagarajm/R/x86_64-pc-linux-gnu-library/4.2’\n",
      "(as ‘lib’ is unspecified)\n",
      "\n",
      "also installing the dependencies ‘httpuv’, ‘xtable’, ‘sourcetools’, ‘later’, ‘promises’, ‘shiny’\n",
      "\n",
      "\n"
     ]
    }
   ],
   "source": [
    "install.packages('ggvis')"
   ]
  },
  {
   "cell_type": "code",
   "execution_count": 23,
   "metadata": {
    "vscode": {
     "languageId": "r"
    }
   },
   "outputs": [],
   "source": [
    "library(ggvis)"
   ]
  },
  {
   "cell_type": "code",
   "execution_count": 24,
   "metadata": {
    "vscode": {
     "languageId": "r"
    }
   },
   "outputs": [
    {
     "name": "stderr",
     "output_type": "stream",
     "text": [
      "Guessing layer_points()\n",
      "\n"
     ]
    }
   ],
   "source": [
    "# Iris scatterplot\n",
    "iris %>% ggvis(~Sepal.Length, ~Sepal.Width, fill = ~Species)"
   ]
  },
  {
   "cell_type": "code",
   "execution_count": 26,
   "metadata": {
    "vscode": {
     "languageId": "r"
    }
   },
   "outputs": [
    {
     "data": {
      "text/html": [
       "<table class=\"dataframe\">\n",
       "<caption>A data.frame: 6 × 5</caption>\n",
       "<thead>\n",
       "\t<tr><th></th><th scope=col>Sepal.Length</th><th scope=col>Sepal.Width</th><th scope=col>Petal.Length</th><th scope=col>Petal.Width</th><th scope=col>Species</th></tr>\n",
       "\t<tr><th></th><th scope=col>&lt;dbl&gt;</th><th scope=col>&lt;dbl&gt;</th><th scope=col>&lt;dbl&gt;</th><th scope=col>&lt;dbl&gt;</th><th scope=col>&lt;fct&gt;</th></tr>\n",
       "</thead>\n",
       "<tbody>\n",
       "\t<tr><th scope=row>1</th><td>5.1</td><td>3.5</td><td>1.4</td><td>0.2</td><td>setosa</td></tr>\n",
       "\t<tr><th scope=row>2</th><td>4.9</td><td>3.0</td><td>1.4</td><td>0.2</td><td>setosa</td></tr>\n",
       "\t<tr><th scope=row>3</th><td>4.7</td><td>3.2</td><td>1.3</td><td>0.2</td><td>setosa</td></tr>\n",
       "\t<tr><th scope=row>4</th><td>4.6</td><td>3.1</td><td>1.5</td><td>0.2</td><td>setosa</td></tr>\n",
       "\t<tr><th scope=row>5</th><td>5.0</td><td>3.6</td><td>1.4</td><td>0.2</td><td>setosa</td></tr>\n",
       "\t<tr><th scope=row>6</th><td>5.4</td><td>3.9</td><td>1.7</td><td>0.4</td><td>setosa</td></tr>\n",
       "</tbody>\n",
       "</table>\n"
      ],
      "text/latex": [
       "A data.frame: 6 × 5\n",
       "\\begin{tabular}{r|lllll}\n",
       "  & Sepal.Length & Sepal.Width & Petal.Length & Petal.Width & Species\\\\\n",
       "  & <dbl> & <dbl> & <dbl> & <dbl> & <fct>\\\\\n",
       "\\hline\n",
       "\t1 & 5.1 & 3.5 & 1.4 & 0.2 & setosa\\\\\n",
       "\t2 & 4.9 & 3.0 & 1.4 & 0.2 & setosa\\\\\n",
       "\t3 & 4.7 & 3.2 & 1.3 & 0.2 & setosa\\\\\n",
       "\t4 & 4.6 & 3.1 & 1.5 & 0.2 & setosa\\\\\n",
       "\t5 & 5.0 & 3.6 & 1.4 & 0.2 & setosa\\\\\n",
       "\t6 & 5.4 & 3.9 & 1.7 & 0.4 & setosa\\\\\n",
       "\\end{tabular}\n"
      ],
      "text/markdown": [
       "\n",
       "A data.frame: 6 × 5\n",
       "\n",
       "| <!--/--> | Sepal.Length &lt;dbl&gt; | Sepal.Width &lt;dbl&gt; | Petal.Length &lt;dbl&gt; | Petal.Width &lt;dbl&gt; | Species &lt;fct&gt; |\n",
       "|---|---|---|---|---|---|\n",
       "| 1 | 5.1 | 3.5 | 1.4 | 0.2 | setosa |\n",
       "| 2 | 4.9 | 3.0 | 1.4 | 0.2 | setosa |\n",
       "| 3 | 4.7 | 3.2 | 1.3 | 0.2 | setosa |\n",
       "| 4 | 4.6 | 3.1 | 1.5 | 0.2 | setosa |\n",
       "| 5 | 5.0 | 3.6 | 1.4 | 0.2 | setosa |\n",
       "| 6 | 5.4 | 3.9 | 1.7 | 0.4 | setosa |\n",
       "\n"
      ],
      "text/plain": [
       "  Sepal.Length Sepal.Width Petal.Length Petal.Width Species\n",
       "1 5.1          3.5         1.4          0.2         setosa \n",
       "2 4.9          3.0         1.4          0.2         setosa \n",
       "3 4.7          3.2         1.3          0.2         setosa \n",
       "4 4.6          3.1         1.5          0.2         setosa \n",
       "5 5.0          3.6         1.4          0.2         setosa \n",
       "6 5.4          3.9         1.7          0.4         setosa "
      ]
     },
     "metadata": {},
     "output_type": "display_data"
    }
   ],
   "source": [
    "head(iris)"
   ]
  },
  {
   "cell_type": "code",
   "execution_count": 27,
   "metadata": {
    "vscode": {
     "languageId": "r"
    }
   },
   "outputs": [],
   "source": [
    "set.seed(1234)"
   ]
  },
  {
   "cell_type": "code",
   "execution_count": 28,
   "metadata": {
    "vscode": {
     "languageId": "r"
    }
   },
   "outputs": [],
   "source": [
    "ind <- sample(2, nrow(iris), replace=TRUE, prob=c (0.67, 0.33))"
   ]
  },
  {
   "cell_type": "code",
   "execution_count": 29,
   "metadata": {
    "vscode": {
     "languageId": "r"
    }
   },
   "outputs": [],
   "source": [
    "iris.training <- iris[ind==1, 1:4]\n",
    "iris.test <- iris[ind==2, 1:4]"
   ]
  },
  {
   "cell_type": "code",
   "execution_count": 30,
   "metadata": {
    "vscode": {
     "languageId": "r"
    }
   },
   "outputs": [],
   "source": [
    "iris.trainLabels <- iris[ind==1,5]\n",
    "iris.testLabels <- iris[ind==2,5]"
   ]
  },
  {
   "cell_type": "code",
   "execution_count": 31,
   "metadata": {
    "vscode": {
     "languageId": "r"
    }
   },
   "outputs": [],
   "source": [
    "library(class)\n",
    "iris_pred <- knn(train = iris.training, test = iris.test, cl =\n",
    "iris.trainLabels, k=3)"
   ]
  },
  {
   "cell_type": "code",
   "execution_count": 32,
   "metadata": {
    "vscode": {
     "languageId": "r"
    }
   },
   "outputs": [
    {
     "data": {
      "text/html": [
       "<style>\n",
       ".dl-inline {width: auto; margin:0; padding: 0}\n",
       ".dl-inline>dt, .dl-inline>dd {float: none; width: auto; display: inline-block}\n",
       ".dl-inline>dt::after {content: \":\\0020\"; padding-right: .5ex}\n",
       ".dl-inline>dt:not(:first-of-type) {padding-left: .5ex}\n",
       "</style><dl class=dl-inline><dt>setosa</dt><dd>12</dd><dt>versicolor</dt><dd>13</dd><dt>virginica</dt><dd>15</dd></dl>\n"
      ],
      "text/latex": [
       "\\begin{description*}\n",
       "\\item[setosa] 12\n",
       "\\item[versicolor] 13\n",
       "\\item[virginica] 15\n",
       "\\end{description*}\n"
      ],
      "text/markdown": [
       "setosa\n",
       ":   12versicolor\n",
       ":   13virginica\n",
       ":   15\n",
       "\n"
      ],
      "text/plain": [
       "    setosa versicolor  virginica \n",
       "        12         13         15 "
      ]
     },
     "metadata": {},
     "output_type": "display_data"
    }
   ],
   "source": [
    "summary(iris_pred)"
   ]
  },
  {
   "cell_type": "code",
   "execution_count": 33,
   "metadata": {
    "vscode": {
     "languageId": "r"
    }
   },
   "outputs": [
    {
     "name": "stderr",
     "output_type": "stream",
     "text": [
      "Installing package into ‘/home/ajaynagarajm/R/x86_64-pc-linux-gnu-library/4.2’\n",
      "(as ‘lib’ is unspecified)\n",
      "\n"
     ]
    }
   ],
   "source": [
    "# install.packages('gmodels')"
   ]
  },
  {
   "cell_type": "code",
   "execution_count": 34,
   "metadata": {
    "vscode": {
     "languageId": "r"
    }
   },
   "outputs": [
    {
     "name": "stdout",
     "output_type": "stream",
     "text": [
      "\n",
      " \n",
      "   Cell Contents\n",
      "|-------------------------|\n",
      "|                       N |\n",
      "|           N / Row Total |\n",
      "|           N / Col Total |\n",
      "|         N / Table Total |\n",
      "|-------------------------|\n",
      "\n",
      " \n",
      "Total Observations in Table:  40 \n",
      "\n",
      " \n",
      "             | iris.testLabels \n",
      "   iris_pred |     setosa | versicolor |  virginica |  Row Total | \n",
      "-------------|------------|------------|------------|------------|\n",
      "      setosa |         12 |          0 |          0 |         12 | \n",
      "             |      1.000 |      0.000 |      0.000 |      0.300 | \n",
      "             |      1.000 |      0.000 |      0.000 |            | \n",
      "             |      0.300 |      0.000 |      0.000 |            | \n",
      "-------------|------------|------------|------------|------------|\n",
      "  versicolor |          0 |         12 |          1 |         13 | \n",
      "             |      0.000 |      0.923 |      0.077 |      0.325 | \n",
      "             |      0.000 |      1.000 |      0.062 |            | \n",
      "             |      0.000 |      0.300 |      0.025 |            | \n",
      "-------------|------------|------------|------------|------------|\n",
      "   virginica |          0 |          0 |         15 |         15 | \n",
      "             |      0.000 |      0.000 |      1.000 |      0.375 | \n",
      "             |      0.000 |      0.000 |      0.938 |            | \n",
      "             |      0.000 |      0.000 |      0.375 |            | \n",
      "-------------|------------|------------|------------|------------|\n",
      "Column Total |         12 |         12 |         16 |         40 | \n",
      "             |      0.300 |      0.300 |      0.400 |            | \n",
      "-------------|------------|------------|------------|------------|\n",
      "\n",
      " \n"
     ]
    }
   ],
   "source": [
    "library(gmodels)\n",
    "CrossTable(x=iris_pred, y=iris.testLabels, prop.chisq =FALSE)"
   ]
  },
  {
   "cell_type": "code",
   "execution_count": 35,
   "metadata": {
    "vscode": {
     "languageId": "r"
    }
   },
   "outputs": [
    {
     "name": "stderr",
     "output_type": "stream",
     "text": [
      "\n",
      "Attaching package: ‘ggplot2’\n",
      "\n",
      "\n",
      "The following object is masked from ‘package:ggvis’:\n",
      "\n",
      "    resolution\n",
      "\n",
      "\n",
      "The following object is masked from ‘package:randomForest’:\n",
      "\n",
      "    margin\n",
      "\n",
      "\n"
     ]
    }
   ],
   "source": [
    "library(ggplot2)"
   ]
  },
  {
   "cell_type": "code",
   "execution_count": 36,
   "metadata": {
    "vscode": {
     "languageId": "r"
    }
   },
   "outputs": [
    {
     "data": {
      "text/html": [
       "<table class=\"dataframe\">\n",
       "<caption>A data.frame: 6 × 5</caption>\n",
       "<thead>\n",
       "\t<tr><th></th><th scope=col>SepelLength</th><th scope=col>SepelWidth</th><th scope=col>PetalLength</th><th scope=col>PetalWidth</th><th scope=col>Species</th></tr>\n",
       "\t<tr><th></th><th scope=col>&lt;dbl&gt;</th><th scope=col>&lt;dbl&gt;</th><th scope=col>&lt;dbl&gt;</th><th scope=col>&lt;dbl&gt;</th><th scope=col>&lt;chr&gt;</th></tr>\n",
       "</thead>\n",
       "<tbody>\n",
       "\t<tr><th scope=row>1</th><td>5.1</td><td>3.5</td><td>1.4</td><td>0.2</td><td>Iris-setosa</td></tr>\n",
       "\t<tr><th scope=row>2</th><td>4.9</td><td>3.0</td><td>1.4</td><td>0.2</td><td>Iris-setosa</td></tr>\n",
       "\t<tr><th scope=row>3</th><td>4.7</td><td>3.2</td><td>1.3</td><td>0.2</td><td>Iris-setosa</td></tr>\n",
       "\t<tr><th scope=row>4</th><td>4.6</td><td>3.1</td><td>1.5</td><td>0.2</td><td>Iris-setosa</td></tr>\n",
       "\t<tr><th scope=row>5</th><td>5.0</td><td>3.6</td><td>1.4</td><td>0.2</td><td>Iris-setosa</td></tr>\n",
       "\t<tr><th scope=row>6</th><td>5.4</td><td>3.9</td><td>1.7</td><td>0.4</td><td>Iris-setosa</td></tr>\n",
       "</tbody>\n",
       "</table>\n"
      ],
      "text/latex": [
       "A data.frame: 6 × 5\n",
       "\\begin{tabular}{r|lllll}\n",
       "  & SepelLength & SepelWidth & PetalLength & PetalWidth & Species\\\\\n",
       "  & <dbl> & <dbl> & <dbl> & <dbl> & <chr>\\\\\n",
       "\\hline\n",
       "\t1 & 5.1 & 3.5 & 1.4 & 0.2 & Iris-setosa\\\\\n",
       "\t2 & 4.9 & 3.0 & 1.4 & 0.2 & Iris-setosa\\\\\n",
       "\t3 & 4.7 & 3.2 & 1.3 & 0.2 & Iris-setosa\\\\\n",
       "\t4 & 4.6 & 3.1 & 1.5 & 0.2 & Iris-setosa\\\\\n",
       "\t5 & 5.0 & 3.6 & 1.4 & 0.2 & Iris-setosa\\\\\n",
       "\t6 & 5.4 & 3.9 & 1.7 & 0.4 & Iris-setosa\\\\\n",
       "\\end{tabular}\n"
      ],
      "text/markdown": [
       "\n",
       "A data.frame: 6 × 5\n",
       "\n",
       "| <!--/--> | SepelLength &lt;dbl&gt; | SepelWidth &lt;dbl&gt; | PetalLength &lt;dbl&gt; | PetalWidth &lt;dbl&gt; | Species &lt;chr&gt; |\n",
       "|---|---|---|---|---|---|\n",
       "| 1 | 5.1 | 3.5 | 1.4 | 0.2 | Iris-setosa |\n",
       "| 2 | 4.9 | 3.0 | 1.4 | 0.2 | Iris-setosa |\n",
       "| 3 | 4.7 | 3.2 | 1.3 | 0.2 | Iris-setosa |\n",
       "| 4 | 4.6 | 3.1 | 1.5 | 0.2 | Iris-setosa |\n",
       "| 5 | 5.0 | 3.6 | 1.4 | 0.2 | Iris-setosa |\n",
       "| 6 | 5.4 | 3.9 | 1.7 | 0.4 | Iris-setosa |\n",
       "\n"
      ],
      "text/plain": [
       "  SepelLength SepelWidth PetalLength PetalWidth Species    \n",
       "1 5.1         3.5        1.4         0.2        Iris-setosa\n",
       "2 4.9         3.0        1.4         0.2        Iris-setosa\n",
       "3 4.7         3.2        1.3         0.2        Iris-setosa\n",
       "4 4.6         3.1        1.5         0.2        Iris-setosa\n",
       "5 5.0         3.6        1.4         0.2        Iris-setosa\n",
       "6 5.4         3.9        1.7         0.4        Iris-setosa"
      ]
     },
     "metadata": {},
     "output_type": "display_data"
    }
   ],
   "source": [
    "idata <- read.csv('iris.data.csv')\n",
    "head(idata)"
   ]
  },
  {
   "cell_type": "code",
   "execution_count": 37,
   "metadata": {
    "vscode": {
     "languageId": "r"
    }
   },
   "outputs": [],
   "source": [
    "library(ggplot2)"
   ]
  },
  {
   "cell_type": "code",
   "execution_count": 38,
   "metadata": {
    "vscode": {
     "languageId": "r"
    }
   },
   "outputs": [
    {
     "data": {
      "image/png": "[encoded data removed]",
      "text/plain": [
       "plot without title"
      ]
     },
     "metadata": {
      "image/png": {
       "height": 420,
       "width": 420
      }
     },
     "output_type": "display_data"
    }
   ],
   "source": [
    "ggplot(idata, aes(x = SepelLength, y = SepelWidth, color = Species))+geom_point()"
   ]
  },
  {
   "attachments": {},
   "cell_type": "markdown",
   "metadata": {},
   "source": [
    "## Day 3 - Decision Tree"
   ]
  },
  {
   "cell_type": "code",
   "execution_count": 40,
   "metadata": {
    "vscode": {
     "languageId": "r"
    }
   },
   "outputs": [
    {
     "data": {
      "text/html": [
       "<table class=\"dataframe\">\n",
       "<caption>A data.frame: 6 × 5</caption>\n",
       "<thead>\n",
       "\t<tr><th></th><th scope=col>Color</th><th scope=col>Size</th><th scope=col>Act</th><th scope=col>Age</th><th scope=col>Inflated</th></tr>\n",
       "\t<tr><th></th><th scope=col>&lt;chr&gt;</th><th scope=col>&lt;chr&gt;</th><th scope=col>&lt;chr&gt;</th><th scope=col>&lt;chr&gt;</th><th scope=col>&lt;lgl&gt;</th></tr>\n",
       "</thead>\n",
       "<tbody>\n",
       "\t<tr><th scope=row>1</th><td>YELLOW</td><td>SMALL</td><td>STRETCH</td><td>ADULT</td><td>TRUE</td></tr>\n",
       "\t<tr><th scope=row>2</th><td>YELLOW</td><td>SMALL</td><td>STRETCH</td><td>CHILD</td><td>TRUE</td></tr>\n",
       "\t<tr><th scope=row>3</th><td>YELLOW</td><td>SMALL</td><td>DIP    </td><td>ADULT</td><td>TRUE</td></tr>\n",
       "\t<tr><th scope=row>4</th><td>YELLOW</td><td>SMALL</td><td>DIP    </td><td>CHILD</td><td>TRUE</td></tr>\n",
       "\t<tr><th scope=row>5</th><td>YELLOW</td><td>SMALL</td><td>STRETCH</td><td>ADULT</td><td>TRUE</td></tr>\n",
       "\t<tr><th scope=row>6</th><td>YELLOW</td><td>SMALL</td><td>STRETCH</td><td>CHILD</td><td>TRUE</td></tr>\n",
       "</tbody>\n",
       "</table>\n"
      ],
      "text/latex": [
       "A data.frame: 6 × 5\n",
       "\\begin{tabular}{r|lllll}\n",
       "  & Color & Size & Act & Age & Inflated\\\\\n",
       "  & <chr> & <chr> & <chr> & <chr> & <lgl>\\\\\n",
       "\\hline\n",
       "\t1 & YELLOW & SMALL & STRETCH & ADULT & TRUE\\\\\n",
       "\t2 & YELLOW & SMALL & STRETCH & CHILD & TRUE\\\\\n",
       "\t3 & YELLOW & SMALL & DIP     & ADULT & TRUE\\\\\n",
       "\t4 & YELLOW & SMALL & DIP     & CHILD & TRUE\\\\\n",
       "\t5 & YELLOW & SMALL & STRETCH & ADULT & TRUE\\\\\n",
       "\t6 & YELLOW & SMALL & STRETCH & CHILD & TRUE\\\\\n",
       "\\end{tabular}\n"
      ],
      "text/markdown": [
       "\n",
       "A data.frame: 6 × 5\n",
       "\n",
       "| <!--/--> | Color &lt;chr&gt; | Size &lt;chr&gt; | Act &lt;chr&gt; | Age &lt;chr&gt; | Inflated &lt;lgl&gt; |\n",
       "|---|---|---|---|---|---|\n",
       "| 1 | YELLOW | SMALL | STRETCH | ADULT | TRUE |\n",
       "| 2 | YELLOW | SMALL | STRETCH | CHILD | TRUE |\n",
       "| 3 | YELLOW | SMALL | DIP     | ADULT | TRUE |\n",
       "| 4 | YELLOW | SMALL | DIP     | CHILD | TRUE |\n",
       "| 5 | YELLOW | SMALL | STRETCH | ADULT | TRUE |\n",
       "| 6 | YELLOW | SMALL | STRETCH | CHILD | TRUE |\n",
       "\n"
      ],
      "text/plain": [
       "  Color  Size  Act     Age   Inflated\n",
       "1 YELLOW SMALL STRETCH ADULT TRUE    \n",
       "2 YELLOW SMALL STRETCH CHILD TRUE    \n",
       "3 YELLOW SMALL DIP     ADULT TRUE    \n",
       "4 YELLOW SMALL DIP     CHILD TRUE    \n",
       "5 YELLOW SMALL STRETCH ADULT TRUE    \n",
       "6 YELLOW SMALL STRETCH CHILD TRUE    "
      ]
     },
     "metadata": {},
     "output_type": "display_data"
    }
   ],
   "source": [
    "balloon <- read.csv('yellow-small.data.csv')\n",
    "head(balloon)"
   ]
  },
  {
   "cell_type": "code",
   "execution_count": 42,
   "metadata": {
    "vscode": {
     "languageId": "r"
    }
   },
   "outputs": [],
   "source": [
    "balloon$Color <- factor(balloon$Color)\n",
    "balloon$Size <- factor(balloon$Size)\n",
    "balloon$Act <- factor(balloon$Act)\n",
    "balloon$Age <- factor(balloon$Age)\n",
    "balloon$Inflated <- factor(balloon$Inflated)"
   ]
  },
  {
   "cell_type": "code",
   "execution_count": 43,
   "metadata": {
    "vscode": {
     "languageId": "r"
    }
   },
   "outputs": [
    {
     "data": {
      "text/html": [
       "TRUE"
      ],
      "text/latex": [
       "TRUE"
      ],
      "text/markdown": [
       "TRUE"
      ],
      "text/plain": [
       "[1] TRUE"
      ]
     },
     "metadata": {},
     "output_type": "display_data"
    }
   ],
   "source": [
    "is.factor(balloon$Size)"
   ]
  },
  {
   "cell_type": "code",
   "execution_count": 12,
   "metadata": {
    "vscode": {
     "languageId": "r"
    }
   },
   "outputs": [
    {
     "name": "stderr",
     "output_type": "stream",
     "text": [
      "Installing package into ‘/home/ajaynagarajm/R/x86_64-pc-linux-gnu-library/4.2’\n",
      "(as ‘lib’ is unspecified)\n",
      "\n"
     ]
    }
   ],
   "source": [
    "# install.packages('party', dep=TRUE)"
   ]
  },
  {
   "cell_type": "code",
   "execution_count": 46,
   "metadata": {
    "vscode": {
     "languageId": "r"
    }
   },
   "outputs": [
    {
     "name": "stderr",
     "output_type": "stream",
     "text": [
      "Loading required package: grid\n",
      "\n",
      "Loading required package: mvtnorm\n",
      "\n",
      "Loading required package: modeltools\n",
      "\n",
      "Loading required package: stats4\n",
      "\n",
      "Loading required package: strucchange\n",
      "\n",
      "Loading required package: zoo\n",
      "\n",
      "\n",
      "Attaching package: ‘zoo’\n",
      "\n",
      "\n",
      "The following objects are masked from ‘package:base’:\n",
      "\n",
      "    as.Date, as.Date.numeric\n",
      "\n",
      "\n",
      "Loading required package: sandwich\n",
      "\n"
     ]
    }
   ],
   "source": [
    "library(party)"
   ]
  },
  {
   "cell_type": "code",
   "execution_count": 47,
   "metadata": {
    "vscode": {
     "languageId": "r"
    }
   },
   "outputs": [
    {
     "data": {
      "text/html": [
       "<table class=\"dataframe\">\n",
       "<caption>A data.frame: 20 × 5</caption>\n",
       "<thead>\n",
       "\t<tr><th scope=col>Color</th><th scope=col>Size</th><th scope=col>Act</th><th scope=col>Age</th><th scope=col>Inflated</th></tr>\n",
       "\t<tr><th scope=col>&lt;fct&gt;</th><th scope=col>&lt;fct&gt;</th><th scope=col>&lt;fct&gt;</th><th scope=col>&lt;fct&gt;</th><th scope=col>&lt;fct&gt;</th></tr>\n",
       "</thead>\n",
       "<tbody>\n",
       "\t<tr><td>YELLOW</td><td>SMALL</td><td>STRETCH</td><td>ADULT</td><td>TRUE </td></tr>\n",
       "\t<tr><td>YELLOW</td><td>SMALL</td><td>STRETCH</td><td>CHILD</td><td>TRUE </td></tr>\n",
       "\t<tr><td>YELLOW</td><td>SMALL</td><td>DIP    </td><td>ADULT</td><td>TRUE </td></tr>\n",
       "\t<tr><td>YELLOW</td><td>SMALL</td><td>DIP    </td><td>CHILD</td><td>TRUE </td></tr>\n",
       "\t<tr><td>YELLOW</td><td>SMALL</td><td>STRETCH</td><td>ADULT</td><td>TRUE </td></tr>\n",
       "\t<tr><td>YELLOW</td><td>SMALL</td><td>STRETCH</td><td>CHILD</td><td>TRUE </td></tr>\n",
       "\t<tr><td>YELLOW</td><td>SMALL</td><td>DIP    </td><td>ADULT</td><td>TRUE </td></tr>\n",
       "\t<tr><td>YELLOW</td><td>SMALL</td><td>DIP    </td><td>CHILD</td><td>TRUE </td></tr>\n",
       "\t<tr><td>YELLOW</td><td>LARGE</td><td>STRETCH</td><td>ADULT</td><td>FALSE</td></tr>\n",
       "\t<tr><td>YELLOW</td><td>LARGE</td><td>STRETCH</td><td>CHILD</td><td>FALSE</td></tr>\n",
       "\t<tr><td>YELLOW</td><td>LARGE</td><td>DIP    </td><td>ADULT</td><td>FALSE</td></tr>\n",
       "\t<tr><td>YELLOW</td><td>LARGE</td><td>DIP    </td><td>CHILD</td><td>FALSE</td></tr>\n",
       "\t<tr><td>PURPLE</td><td>SMALL</td><td>STRETCH</td><td>ADULT</td><td>FALSE</td></tr>\n",
       "\t<tr><td>PURPLE</td><td>SMALL</td><td>STRETCH</td><td>CHILD</td><td>FALSE</td></tr>\n",
       "\t<tr><td>PURPLE</td><td>SMALL</td><td>DIP    </td><td>ADULT</td><td>FALSE</td></tr>\n",
       "\t<tr><td>PURPLE</td><td>SMALL</td><td>DIP    </td><td>CHILD</td><td>FALSE</td></tr>\n",
       "\t<tr><td>PURPLE</td><td>LARGE</td><td>STRETCH</td><td>ADULT</td><td>FALSE</td></tr>\n",
       "\t<tr><td>PURPLE</td><td>LARGE</td><td>STRETCH</td><td>CHILD</td><td>FALSE</td></tr>\n",
       "\t<tr><td>PURPLE</td><td>LARGE</td><td>DIP    </td><td>ADULT</td><td>FALSE</td></tr>\n",
       "\t<tr><td>PURPLE</td><td>LARGE</td><td>DIP    </td><td>CHILD</td><td>FALSE</td></tr>\n",
       "</tbody>\n",
       "</table>\n"
      ],
      "text/latex": [
       "A data.frame: 20 × 5\n",
       "\\begin{tabular}{lllll}\n",
       " Color & Size & Act & Age & Inflated\\\\\n",
       " <fct> & <fct> & <fct> & <fct> & <fct>\\\\\n",
       "\\hline\n",
       "\t YELLOW & SMALL & STRETCH & ADULT & TRUE \\\\\n",
       "\t YELLOW & SMALL & STRETCH & CHILD & TRUE \\\\\n",
       "\t YELLOW & SMALL & DIP     & ADULT & TRUE \\\\\n",
       "\t YELLOW & SMALL & DIP     & CHILD & TRUE \\\\\n",
       "\t YELLOW & SMALL & STRETCH & ADULT & TRUE \\\\\n",
       "\t YELLOW & SMALL & STRETCH & CHILD & TRUE \\\\\n",
       "\t YELLOW & SMALL & DIP     & ADULT & TRUE \\\\\n",
       "\t YELLOW & SMALL & DIP     & CHILD & TRUE \\\\\n",
       "\t YELLOW & LARGE & STRETCH & ADULT & FALSE\\\\\n",
       "\t YELLOW & LARGE & STRETCH & CHILD & FALSE\\\\\n",
       "\t YELLOW & LARGE & DIP     & ADULT & FALSE\\\\\n",
       "\t YELLOW & LARGE & DIP     & CHILD & FALSE\\\\\n",
       "\t PURPLE & SMALL & STRETCH & ADULT & FALSE\\\\\n",
       "\t PURPLE & SMALL & STRETCH & CHILD & FALSE\\\\\n",
       "\t PURPLE & SMALL & DIP     & ADULT & FALSE\\\\\n",
       "\t PURPLE & SMALL & DIP     & CHILD & FALSE\\\\\n",
       "\t PURPLE & LARGE & STRETCH & ADULT & FALSE\\\\\n",
       "\t PURPLE & LARGE & STRETCH & CHILD & FALSE\\\\\n",
       "\t PURPLE & LARGE & DIP     & ADULT & FALSE\\\\\n",
       "\t PURPLE & LARGE & DIP     & CHILD & FALSE\\\\\n",
       "\\end{tabular}\n"
      ],
      "text/markdown": [
       "\n",
       "A data.frame: 20 × 5\n",
       "\n",
       "| Color &lt;fct&gt; | Size &lt;fct&gt; | Act &lt;fct&gt; | Age &lt;fct&gt; | Inflated &lt;fct&gt; |\n",
       "|---|---|---|---|---|\n",
       "| YELLOW | SMALL | STRETCH | ADULT | TRUE  |\n",
       "| YELLOW | SMALL | STRETCH | CHILD | TRUE  |\n",
       "| YELLOW | SMALL | DIP     | ADULT | TRUE  |\n",
       "| YELLOW | SMALL | DIP     | CHILD | TRUE  |\n",
       "| YELLOW | SMALL | STRETCH | ADULT | TRUE  |\n",
       "| YELLOW | SMALL | STRETCH | CHILD | TRUE  |\n",
       "| YELLOW | SMALL | DIP     | ADULT | TRUE  |\n",
       "| YELLOW | SMALL | DIP     | CHILD | TRUE  |\n",
       "| YELLOW | LARGE | STRETCH | ADULT | FALSE |\n",
       "| YELLOW | LARGE | STRETCH | CHILD | FALSE |\n",
       "| YELLOW | LARGE | DIP     | ADULT | FALSE |\n",
       "| YELLOW | LARGE | DIP     | CHILD | FALSE |\n",
       "| PURPLE | SMALL | STRETCH | ADULT | FALSE |\n",
       "| PURPLE | SMALL | STRETCH | CHILD | FALSE |\n",
       "| PURPLE | SMALL | DIP     | ADULT | FALSE |\n",
       "| PURPLE | SMALL | DIP     | CHILD | FALSE |\n",
       "| PURPLE | LARGE | STRETCH | ADULT | FALSE |\n",
       "| PURPLE | LARGE | STRETCH | CHILD | FALSE |\n",
       "| PURPLE | LARGE | DIP     | ADULT | FALSE |\n",
       "| PURPLE | LARGE | DIP     | CHILD | FALSE |\n",
       "\n"
      ],
      "text/plain": [
       "   Color  Size  Act     Age   Inflated\n",
       "1  YELLOW SMALL STRETCH ADULT TRUE    \n",
       "2  YELLOW SMALL STRETCH CHILD TRUE    \n",
       "3  YELLOW SMALL DIP     ADULT TRUE    \n",
       "4  YELLOW SMALL DIP     CHILD TRUE    \n",
       "5  YELLOW SMALL STRETCH ADULT TRUE    \n",
       "6  YELLOW SMALL STRETCH CHILD TRUE    \n",
       "7  YELLOW SMALL DIP     ADULT TRUE    \n",
       "8  YELLOW SMALL DIP     CHILD TRUE    \n",
       "9  YELLOW LARGE STRETCH ADULT FALSE   \n",
       "10 YELLOW LARGE STRETCH CHILD FALSE   \n",
       "11 YELLOW LARGE DIP     ADULT FALSE   \n",
       "12 YELLOW LARGE DIP     CHILD FALSE   \n",
       "13 PURPLE SMALL STRETCH ADULT FALSE   \n",
       "14 PURPLE SMALL STRETCH CHILD FALSE   \n",
       "15 PURPLE SMALL DIP     ADULT FALSE   \n",
       "16 PURPLE SMALL DIP     CHILD FALSE   \n",
       "17 PURPLE LARGE STRETCH ADULT FALSE   \n",
       "18 PURPLE LARGE STRETCH CHILD FALSE   \n",
       "19 PURPLE LARGE DIP     ADULT FALSE   \n",
       "20 PURPLE LARGE DIP     CHILD FALSE   "
      ]
     },
     "metadata": {},
     "output_type": "display_data"
    }
   ],
   "source": [
    "View(balloon)\n",
    "Inflated.Tree <- ctree(Inflated~., data = balloon)"
   ]
  },
  {
   "cell_type": "code",
   "execution_count": 48,
   "metadata": {
    "vscode": {
     "languageId": "r"
    }
   },
   "outputs": [
    {
     "data": {
      "image/png": "[encoded data removed]",
      "text/plain": [
       "plot without title"
      ]
     },
     "metadata": {
      "image/png": {
       "height": 420,
       "width": 420
      }
     },
     "output_type": "display_data"
    }
   ],
   "source": [
    "plot(Inflated.Tree)"
   ]
  },
  {
   "attachments": {},
   "cell_type": "markdown",
   "metadata": {},
   "source": [
    "## Day 4 - Random Forest"
   ]
  },
  {
   "cell_type": "code",
   "execution_count": 1,
   "metadata": {
    "vscode": {
     "languageId": "r"
    }
   },
   "outputs": [
    {
     "data": {
      "text/html": [
       "<table class=\"dataframe\">\n",
       "<caption>A data.frame: 6 × 17</caption>\n",
       "<thead>\n",
       "\t<tr><th></th><th scope=col>age</th><th scope=col>job</th><th scope=col>marital</th><th scope=col>education</th><th scope=col>default</th><th scope=col>balance</th><th scope=col>housing</th><th scope=col>loan</th><th scope=col>contact</th><th scope=col>day</th><th scope=col>month</th><th scope=col>duration</th><th scope=col>campaign</th><th scope=col>pdays</th><th scope=col>previous</th><th scope=col>poutcome</th><th scope=col>y</th></tr>\n",
       "\t<tr><th></th><th scope=col>&lt;int&gt;</th><th scope=col>&lt;chr&gt;</th><th scope=col>&lt;chr&gt;</th><th scope=col>&lt;chr&gt;</th><th scope=col>&lt;chr&gt;</th><th scope=col>&lt;int&gt;</th><th scope=col>&lt;chr&gt;</th><th scope=col>&lt;chr&gt;</th><th scope=col>&lt;chr&gt;</th><th scope=col>&lt;int&gt;</th><th scope=col>&lt;chr&gt;</th><th scope=col>&lt;int&gt;</th><th scope=col>&lt;int&gt;</th><th scope=col>&lt;int&gt;</th><th scope=col>&lt;int&gt;</th><th scope=col>&lt;chr&gt;</th><th scope=col>&lt;chr&gt;</th></tr>\n",
       "</thead>\n",
       "<tbody>\n",
       "\t<tr><th scope=row>1</th><td>30</td><td>unemployed </td><td>married</td><td>primary  </td><td>no</td><td>1787</td><td>no </td><td>no </td><td>cellular</td><td>19</td><td>oct</td><td> 79</td><td>1</td><td> -1</td><td>0</td><td>unknown</td><td>no</td></tr>\n",
       "\t<tr><th scope=row>2</th><td>33</td><td>services   </td><td>married</td><td>secondary</td><td>no</td><td>4789</td><td>yes</td><td>yes</td><td>cellular</td><td>11</td><td>may</td><td>220</td><td>1</td><td>339</td><td>4</td><td>failure</td><td>no</td></tr>\n",
       "\t<tr><th scope=row>3</th><td>35</td><td>management </td><td>single </td><td>tertiary </td><td>no</td><td>1350</td><td>yes</td><td>no </td><td>cellular</td><td>16</td><td>apr</td><td>185</td><td>1</td><td>330</td><td>1</td><td>failure</td><td>no</td></tr>\n",
       "\t<tr><th scope=row>4</th><td>30</td><td>management </td><td>married</td><td>tertiary </td><td>no</td><td>1476</td><td>yes</td><td>yes</td><td>unknown </td><td> 3</td><td>jun</td><td>199</td><td>4</td><td> -1</td><td>0</td><td>unknown</td><td>no</td></tr>\n",
       "\t<tr><th scope=row>5</th><td>59</td><td>blue-collar</td><td>married</td><td>secondary</td><td>no</td><td>   0</td><td>yes</td><td>no </td><td>unknown </td><td> 5</td><td>may</td><td>226</td><td>1</td><td> -1</td><td>0</td><td>unknown</td><td>no</td></tr>\n",
       "\t<tr><th scope=row>6</th><td>35</td><td>management </td><td>single </td><td>tertiary </td><td>no</td><td> 747</td><td>no </td><td>no </td><td>cellular</td><td>23</td><td>feb</td><td>141</td><td>2</td><td>176</td><td>3</td><td>failure</td><td>no</td></tr>\n",
       "</tbody>\n",
       "</table>\n"
      ],
      "text/latex": [
       "A data.frame: 6 × 17\n",
       "\\begin{tabular}{r|lllllllllllllllll}\n",
       "  & age & job & marital & education & default & balance & housing & loan & contact & day & month & duration & campaign & pdays & previous & poutcome & y\\\\\n",
       "  & <int> & <chr> & <chr> & <chr> & <chr> & <int> & <chr> & <chr> & <chr> & <int> & <chr> & <int> & <int> & <int> & <int> & <chr> & <chr>\\\\\n",
       "\\hline\n",
       "\t1 & 30 & unemployed  & married & primary   & no & 1787 & no  & no  & cellular & 19 & oct &  79 & 1 &  -1 & 0 & unknown & no\\\\\n",
       "\t2 & 33 & services    & married & secondary & no & 4789 & yes & yes & cellular & 11 & may & 220 & 1 & 339 & 4 & failure & no\\\\\n",
       "\t3 & 35 & management  & single  & tertiary  & no & 1350 & yes & no  & cellular & 16 & apr & 185 & 1 & 330 & 1 & failure & no\\\\\n",
       "\t4 & 30 & management  & married & tertiary  & no & 1476 & yes & yes & unknown  &  3 & jun & 199 & 4 &  -1 & 0 & unknown & no\\\\\n",
       "\t5 & 59 & blue-collar & married & secondary & no &    0 & yes & no  & unknown  &  5 & may & 226 & 1 &  -1 & 0 & unknown & no\\\\\n",
       "\t6 & 35 & management  & single  & tertiary  & no &  747 & no  & no  & cellular & 23 & feb & 141 & 2 & 176 & 3 & failure & no\\\\\n",
       "\\end{tabular}\n"
      ],
      "text/markdown": [
       "\n",
       "A data.frame: 6 × 17\n",
       "\n",
       "| <!--/--> | age &lt;int&gt; | job &lt;chr&gt; | marital &lt;chr&gt; | education &lt;chr&gt; | default &lt;chr&gt; | balance &lt;int&gt; | housing &lt;chr&gt; | loan &lt;chr&gt; | contact &lt;chr&gt; | day &lt;int&gt; | month &lt;chr&gt; | duration &lt;int&gt; | campaign &lt;int&gt; | pdays &lt;int&gt; | previous &lt;int&gt; | poutcome &lt;chr&gt; | y &lt;chr&gt; |\n",
       "|---|---|---|---|---|---|---|---|---|---|---|---|---|---|---|---|---|---|\n",
       "| 1 | 30 | unemployed  | married | primary   | no | 1787 | no  | no  | cellular | 19 | oct |  79 | 1 |  -1 | 0 | unknown | no |\n",
       "| 2 | 33 | services    | married | secondary | no | 4789 | yes | yes | cellular | 11 | may | 220 | 1 | 339 | 4 | failure | no |\n",
       "| 3 | 35 | management  | single  | tertiary  | no | 1350 | yes | no  | cellular | 16 | apr | 185 | 1 | 330 | 1 | failure | no |\n",
       "| 4 | 30 | management  | married | tertiary  | no | 1476 | yes | yes | unknown  |  3 | jun | 199 | 4 |  -1 | 0 | unknown | no |\n",
       "| 5 | 59 | blue-collar | married | secondary | no |    0 | yes | no  | unknown  |  5 | may | 226 | 1 |  -1 | 0 | unknown | no |\n",
       "| 6 | 35 | management  | single  | tertiary  | no |  747 | no  | no  | cellular | 23 | feb | 141 | 2 | 176 | 3 | failure | no |\n",
       "\n"
      ],
      "text/plain": [
       "  age job         marital education default balance housing loan contact  day\n",
       "1 30  unemployed  married primary   no      1787    no      no   cellular 19 \n",
       "2 33  services    married secondary no      4789    yes     yes  cellular 11 \n",
       "3 35  management  single  tertiary  no      1350    yes     no   cellular 16 \n",
       "4 30  management  married tertiary  no      1476    yes     yes  unknown   3 \n",
       "5 59  blue-collar married secondary no         0    yes     no   unknown   5 \n",
       "6 35  management  single  tertiary  no       747    no      no   cellular 23 \n",
       "  month duration campaign pdays previous poutcome y \n",
       "1 oct    79      1         -1   0        unknown  no\n",
       "2 may   220      1        339   4        failure  no\n",
       "3 apr   185      1        330   1        failure  no\n",
       "4 jun   199      4         -1   0        unknown  no\n",
       "5 may   226      1         -1   0        unknown  no\n",
       "6 feb   141      2        176   3        failure  no"
      ]
     },
     "metadata": {},
     "output_type": "display_data"
    }
   ],
   "source": [
    "bank <- read.csv('bank.csv')\n",
    "head(bank)"
   ]
  },
  {
   "cell_type": "code",
   "execution_count": 2,
   "metadata": {
    "vscode": {
     "languageId": "r"
    }
   },
   "outputs": [
    {
     "data": {
      "image/png": "[encoded data removed]",
      "text/plain": [
       "plot without title"
      ]
     },
     "metadata": {
      "image/png": {
       "height": 420,
       "width": 420
      }
     },
     "output_type": "display_data"
    }
   ],
   "source": [
    "barplot(table(bank$y))"
   ]
  },
  {
   "cell_type": "code",
   "execution_count": 3,
   "metadata": {
    "vscode": {
     "languageId": "r"
    }
   },
   "outputs": [],
   "source": [
    "bank$y <- factor(bank$y)"
   ]
  },
  {
   "cell_type": "code",
   "execution_count": 4,
   "metadata": {
    "vscode": {
     "languageId": "r"
    }
   },
   "outputs": [],
   "source": [
    "set.seed(1234)\n",
    "population <- sample(nrow(bank), 0.75 * nrow(bank))\n",
    "train <- bank[population, ]\n",
    "test <- bank[-population, ]"
   ]
  },
  {
   "cell_type": "code",
   "execution_count": 5,
   "metadata": {
    "vscode": {
     "languageId": "r"
    }
   },
   "outputs": [],
   "source": [
    "# install.packages('randomForest')"
   ]
  },
  {
   "cell_type": "code",
   "execution_count": 6,
   "metadata": {
    "vscode": {
     "languageId": "r"
    }
   },
   "outputs": [
    {
     "name": "stderr",
     "output_type": "stream",
     "text": [
      "randomForest 4.7-1.1\n",
      "\n",
      "Type rfNews() to see new features/changes/bug fixes.\n",
      "\n"
     ]
    },
    {
     "data": {
      "text/plain": [
       "\n",
       "Call:\n",
       " randomForest(formula = y ~ ., data = train) \n",
       "               Type of random forest: classification\n",
       "                     Number of trees: 500\n",
       "No. of variables tried at each split: 4\n",
       "\n",
       "        OOB estimate of  error rate: 10.18%\n",
       "Confusion matrix:\n",
       "      no yes class.error\n",
       "no  2925  69  0.02304609\n",
       "yes  276 120  0.69696970"
      ]
     },
     "metadata": {},
     "output_type": "display_data"
    }
   ],
   "source": [
    "library(randomForest)\n",
    "model <- randomForest(y ~ ., data = train)\n",
    "model"
   ]
  },
  {
   "cell_type": "code",
   "execution_count": 7,
   "metadata": {
    "vscode": {
     "languageId": "r"
    }
   },
   "outputs": [
    {
     "data": {
      "text/plain": [
       "          \n",
       "prediction  no yes\n",
       "       no  982  92\n",
       "       yes  24  33"
      ]
     },
     "metadata": {},
     "output_type": "display_data"
    }
   ],
   "source": [
    "prediction <- predict(model, newdata = test)\n",
    "table(prediction, test$y)"
   ]
  },
  {
   "cell_type": "code",
   "execution_count": 10,
   "metadata": {
    "vscode": {
     "languageId": "r"
    }
   },
   "outputs": [
    {
     "name": "stderr",
     "output_type": "stream",
     "text": [
      "Loading required package: ggplot2\n",
      "\n",
      "\n",
      "Attaching package: ‘ggplot2’\n",
      "\n",
      "\n",
      "The following object is masked from ‘package:randomForest’:\n",
      "\n",
      "    margin\n",
      "\n",
      "\n",
      "Loading required package: lattice\n",
      "\n"
     ]
    }
   ],
   "source": [
    "library(caret)"
   ]
  },
  {
   "cell_type": "code",
   "execution_count": 12,
   "metadata": {
    "vscode": {
     "languageId": "r"
    }
   },
   "outputs": [
    {
     "data": {
      "text/plain": [
       "Confusion Matrix and Statistics\n",
       "\n",
       "          Reference\n",
       "Prediction  no yes\n",
       "       no  982  92\n",
       "       yes  24  33\n",
       "                                          \n",
       "               Accuracy : 0.8974          \n",
       "                 95% CI : (0.8783, 0.9145)\n",
       "    No Information Rate : 0.8895          \n",
       "    P-Value [Acc > NIR] : 0.2113          \n",
       "                                          \n",
       "                  Kappa : 0.3152          \n",
       "                                          \n",
       " Mcnemar's Test P-Value : 4.946e-10       \n",
       "                                          \n",
       "            Sensitivity : 0.9761          \n",
       "            Specificity : 0.2640          \n",
       "         Pos Pred Value : 0.9143          \n",
       "         Neg Pred Value : 0.5789          \n",
       "             Prevalence : 0.8895          \n",
       "         Detection Rate : 0.8683          \n",
       "   Detection Prevalence : 0.9496          \n",
       "      Balanced Accuracy : 0.6201          \n",
       "                                          \n",
       "       'Positive' Class : no              \n",
       "                                          "
      ]
     },
     "metadata": {},
     "output_type": "display_data"
    }
   ],
   "source": [
    "cm <- confusionMatrix(prediction, test$y)\n",
    "cm"
   ]
  },
  {
   "attachments": {},
   "cell_type": "markdown",
   "metadata": {},
   "source": [
    "<label style=\"color: red; font-weight:bold\">Test (Rough Work)</label>"
   ]
  },
  {
   "cell_type": "code",
   "execution_count": 63,
   "metadata": {
    "vscode": {
     "languageId": "r"
    }
   },
   "outputs": [
    {
     "data": {
      "text/html": [
       "<style>\n",
       ".list-inline {list-style: none; margin:0; padding: 0}\n",
       ".list-inline>li {display: inline-block}\n",
       ".list-inline>li:not(:last-child)::after {content: \"\\00b7\"; padding: 0 .5ex}\n",
       "</style>\n",
       "<ol class=list-inline><li>'ajay'</li><li>'Akash'</li><li>'Ninad'</li><li>'Pranav'</li><li>'Pranav'</li><li>'ajay'</li></ol>\n"
      ],
      "text/latex": [
       "\\begin{enumerate*}\n",
       "\\item 'ajay'\n",
       "\\item 'Akash'\n",
       "\\item 'Ninad'\n",
       "\\item 'Pranav'\n",
       "\\item 'Pranav'\n",
       "\\item 'ajay'\n",
       "\\end{enumerate*}\n"
      ],
      "text/markdown": [
       "1. 'ajay'\n",
       "2. 'Akash'\n",
       "3. 'Ninad'\n",
       "4. 'Pranav'\n",
       "5. 'Pranav'\n",
       "6. 'ajay'\n",
       "\n",
       "\n"
      ],
      "text/plain": [
       "[1] \"ajay\"   \"Akash\"  \"Ninad\"  \"Pranav\" \"Pranav\" \"ajay\"  "
      ]
     },
     "metadata": {},
     "output_type": "display_data"
    },
    {
     "data": {
      "text/html": [
       "FALSE"
      ],
      "text/latex": [
       "FALSE"
      ],
      "text/markdown": [
       "FALSE"
      ],
      "text/plain": [
       "[1] FALSE"
      ]
     },
     "metadata": {},
     "output_type": "display_data"
    }
   ],
   "source": [
    "data <- c(\"ajay\", \"Akash\", \"Ninad\", \"Pranav\", \"Pranav\", \"ajay\")\n",
    "data\n",
    "is.factor(data)"
   ]
  },
  {
   "cell_type": "code",
   "execution_count": 64,
   "metadata": {
    "vscode": {
     "languageId": "r"
    }
   },
   "outputs": [
    {
     "data": {
      "text/html": [
       "<style>\n",
       ".list-inline {list-style: none; margin:0; padding: 0}\n",
       ".list-inline>li {display: inline-block}\n",
       ".list-inline>li:not(:last-child)::after {content: \"\\00b7\"; padding: 0 .5ex}\n",
       "</style>\n",
       "<ol class=list-inline><li>ajay</li><li>Akash</li><li>Ninad</li><li>Pranav</li><li>Pranav</li><li>ajay</li></ol>\n",
       "\n",
       "<details>\n",
       "\t<summary style=display:list-item;cursor:pointer>\n",
       "\t\t<strong>Levels</strong>:\n",
       "\t</summary>\n",
       "\t<style>\n",
       "\t.list-inline {list-style: none; margin:0; padding: 0}\n",
       "\t.list-inline>li {display: inline-block}\n",
       "\t.list-inline>li:not(:last-child)::after {content: \"\\00b7\"; padding: 0 .5ex}\n",
       "\t</style>\n",
       "\t<ol class=list-inline><li>'ajay'</li><li>'Akash'</li><li>'Ninad'</li><li>'Pranav'</li></ol>\n",
       "</details>"
      ],
      "text/latex": [
       "\\begin{enumerate*}\n",
       "\\item ajay\n",
       "\\item Akash\n",
       "\\item Ninad\n",
       "\\item Pranav\n",
       "\\item Pranav\n",
       "\\item ajay\n",
       "\\end{enumerate*}\n",
       "\n",
       "\\emph{Levels}: \\begin{enumerate*}\n",
       "\\item 'ajay'\n",
       "\\item 'Akash'\n",
       "\\item 'Ninad'\n",
       "\\item 'Pranav'\n",
       "\\end{enumerate*}\n"
      ],
      "text/markdown": [
       "1. ajay\n",
       "2. Akash\n",
       "3. Ninad\n",
       "4. Pranav\n",
       "5. Pranav\n",
       "6. ajay\n",
       "\n",
       "\n",
       "\n",
       "**Levels**: 1. 'ajay'\n",
       "2. 'Akash'\n",
       "3. 'Ninad'\n",
       "4. 'Pranav'\n",
       "\n",
       "\n"
      ],
      "text/plain": [
       "[1] ajay   Akash  Ninad  Pranav Pranav ajay  \n",
       "Levels: ajay Akash Ninad Pranav"
      ]
     },
     "metadata": {},
     "output_type": "display_data"
    }
   ],
   "source": [
    "fact_data <- factor(data)\n",
    "fact_data"
   ]
  },
  {
   "attachments": {},
   "cell_type": "markdown",
   "metadata": {},
   "source": [
    "## Day 5 - Naive Bayes Classifier  "
   ]
  },
  {
   "cell_type": "code",
   "execution_count": 13,
   "metadata": {
    "vscode": {
     "languageId": "r"
    }
   },
   "outputs": [
    {
     "data": {
      "text/html": [
       "<table class=\"dataframe\">\n",
       "<caption>A data.frame: 6 × 5</caption>\n",
       "<thead>\n",
       "\t<tr><th></th><th scope=col>Outlook</th><th scope=col>Temperature</th><th scope=col>Humidity</th><th scope=col>Windy</th><th scope=col>Play</th></tr>\n",
       "\t<tr><th></th><th scope=col>&lt;chr&gt;</th><th scope=col>&lt;chr&gt;</th><th scope=col>&lt;chr&gt;</th><th scope=col>&lt;chr&gt;</th><th scope=col>&lt;chr&gt;</th></tr>\n",
       "</thead>\n",
       "<tbody>\n",
       "\t<tr><th scope=row>1</th><td>sunny   </td><td>hot </td><td>high  </td><td>false</td><td>no </td></tr>\n",
       "\t<tr><th scope=row>2</th><td>sunny   </td><td>hot </td><td>high  </td><td>true </td><td>no </td></tr>\n",
       "\t<tr><th scope=row>3</th><td>overcast</td><td>hot </td><td>high  </td><td>false</td><td>yes</td></tr>\n",
       "\t<tr><th scope=row>4</th><td>rainy   </td><td>mild</td><td>high  </td><td>false</td><td>yes</td></tr>\n",
       "\t<tr><th scope=row>5</th><td>rainy   </td><td>cool</td><td>normal</td><td>false</td><td>yes</td></tr>\n",
       "\t<tr><th scope=row>6</th><td>rainy   </td><td>cool</td><td>normal</td><td>true </td><td>no </td></tr>\n",
       "</tbody>\n",
       "</table>\n"
      ],
      "text/latex": [
       "A data.frame: 6 × 5\n",
       "\\begin{tabular}{r|lllll}\n",
       "  & Outlook & Temperature & Humidity & Windy & Play\\\\\n",
       "  & <chr> & <chr> & <chr> & <chr> & <chr>\\\\\n",
       "\\hline\n",
       "\t1 & sunny    & hot  & high   & false & no \\\\\n",
       "\t2 & sunny    & hot  & high   & true  & no \\\\\n",
       "\t3 & overcast & hot  & high   & false & yes\\\\\n",
       "\t4 & rainy    & mild & high   & false & yes\\\\\n",
       "\t5 & rainy    & cool & normal & false & yes\\\\\n",
       "\t6 & rainy    & cool & normal & true  & no \\\\\n",
       "\\end{tabular}\n"
      ],
      "text/markdown": [
       "\n",
       "A data.frame: 6 × 5\n",
       "\n",
       "| <!--/--> | Outlook &lt;chr&gt; | Temperature &lt;chr&gt; | Humidity &lt;chr&gt; | Windy &lt;chr&gt; | Play &lt;chr&gt; |\n",
       "|---|---|---|---|---|---|\n",
       "| 1 | sunny    | hot  | high   | false | no  |\n",
       "| 2 | sunny    | hot  | high   | true  | no  |\n",
       "| 3 | overcast | hot  | high   | false | yes |\n",
       "| 4 | rainy    | mild | high   | false | yes |\n",
       "| 5 | rainy    | cool | normal | false | yes |\n",
       "| 6 | rainy    | cool | normal | true  | no  |\n",
       "\n"
      ],
      "text/plain": [
       "  Outlook  Temperature Humidity Windy Play\n",
       "1 sunny    hot         high     false no  \n",
       "2 sunny    hot         high     true  no  \n",
       "3 overcast hot         high     false yes \n",
       "4 rainy    mild        high     false yes \n",
       "5 rainy    cool        normal   false yes \n",
       "6 rainy    cool        normal   true  no  "
      ]
     },
     "metadata": {},
     "output_type": "display_data"
    }
   ],
   "source": [
    "golf <- read.csv('golf_df.csv')\n",
    "head(golf)"
   ]
  },
  {
   "cell_type": "code",
   "execution_count": 24,
   "metadata": {
    "vscode": {
     "languageId": "r"
    }
   },
   "outputs": [],
   "source": [
    "golf$Play <- factor(golf$Play)"
   ]
  },
  {
   "cell_type": "code",
   "execution_count": 25,
   "metadata": {
    "vscode": {
     "languageId": "r"
    }
   },
   "outputs": [
    {
     "name": "stderr",
     "output_type": "stream",
     "text": [
      "Installing package into ‘/home/ajaynagarajm/R/x86_64-pc-linux-gnu-library/4.2’\n",
      "(as ‘lib’ is unspecified)\n",
      "\n"
     ]
    }
   ],
   "source": [
    "install.packages('e1071')\n",
    "library(e1071)"
   ]
  },
  {
   "cell_type": "code",
   "execution_count": 26,
   "metadata": {
    "vscode": {
     "languageId": "r"
    }
   },
   "outputs": [],
   "source": [
    "set.seed(123)\n",
    "id <- sample(2, nrow(golf), prob = c(0.7, 0.3), replace = T)\n",
    "golfTrain <- golf[id ==1,]\n",
    "golfTest <- golf[id ==2,]"
   ]
  },
  {
   "cell_type": "code",
   "execution_count": 27,
   "metadata": {
    "vscode": {
     "languageId": "r"
    }
   },
   "outputs": [
    {
     "data": {
      "text/html": [
       "<table class=\"dataframe\">\n",
       "<caption>A data.frame: 5 × 5</caption>\n",
       "<thead>\n",
       "\t<tr><th></th><th scope=col>Outlook</th><th scope=col>Temperature</th><th scope=col>Humidity</th><th scope=col>Windy</th><th scope=col>Play</th></tr>\n",
       "\t<tr><th></th><th scope=col>&lt;chr&gt;</th><th scope=col>&lt;chr&gt;</th><th scope=col>&lt;chr&gt;</th><th scope=col>&lt;chr&gt;</th><th scope=col>&lt;fct&gt;</th></tr>\n",
       "</thead>\n",
       "<tbody>\n",
       "\t<tr><th scope=row>2</th><td>sunny</td><td>hot </td><td>high  </td><td>true </td><td>no </td></tr>\n",
       "\t<tr><th scope=row>4</th><td>rainy</td><td>mild</td><td>high  </td><td>false</td><td>yes</td></tr>\n",
       "\t<tr><th scope=row>5</th><td>rainy</td><td>cool</td><td>normal</td><td>false</td><td>yes</td></tr>\n",
       "\t<tr><th scope=row>8</th><td>sunny</td><td>mild</td><td>high  </td><td>false</td><td>no </td></tr>\n",
       "\t<tr><th scope=row>11</th><td>sunny</td><td>mild</td><td>normal</td><td>true </td><td>yes</td></tr>\n",
       "</tbody>\n",
       "</table>\n"
      ],
      "text/latex": [
       "A data.frame: 5 × 5\n",
       "\\begin{tabular}{r|lllll}\n",
       "  & Outlook & Temperature & Humidity & Windy & Play\\\\\n",
       "  & <chr> & <chr> & <chr> & <chr> & <fct>\\\\\n",
       "\\hline\n",
       "\t2 & sunny & hot  & high   & true  & no \\\\\n",
       "\t4 & rainy & mild & high   & false & yes\\\\\n",
       "\t5 & rainy & cool & normal & false & yes\\\\\n",
       "\t8 & sunny & mild & high   & false & no \\\\\n",
       "\t11 & sunny & mild & normal & true  & yes\\\\\n",
       "\\end{tabular}\n"
      ],
      "text/markdown": [
       "\n",
       "A data.frame: 5 × 5\n",
       "\n",
       "| <!--/--> | Outlook &lt;chr&gt; | Temperature &lt;chr&gt; | Humidity &lt;chr&gt; | Windy &lt;chr&gt; | Play &lt;fct&gt; |\n",
       "|---|---|---|---|---|---|\n",
       "| 2 | sunny | hot  | high   | true  | no  |\n",
       "| 4 | rainy | mild | high   | false | yes |\n",
       "| 5 | rainy | cool | normal | false | yes |\n",
       "| 8 | sunny | mild | high   | false | no  |\n",
       "| 11 | sunny | mild | normal | true  | yes |\n",
       "\n"
      ],
      "text/plain": [
       "   Outlook Temperature Humidity Windy Play\n",
       "2  sunny   hot         high     true  no  \n",
       "4  rainy   mild        high     false yes \n",
       "5  rainy   cool        normal   false yes \n",
       "8  sunny   mild        high     false no  \n",
       "11 sunny   mild        normal   true  yes "
      ]
     },
     "metadata": {},
     "output_type": "display_data"
    },
    {
     "data": {
      "text/html": [
       "<table class=\"dataframe\">\n",
       "<caption>A data.frame: 9 × 5</caption>\n",
       "<thead>\n",
       "\t<tr><th></th><th scope=col>Outlook</th><th scope=col>Temperature</th><th scope=col>Humidity</th><th scope=col>Windy</th><th scope=col>Play</th></tr>\n",
       "\t<tr><th></th><th scope=col>&lt;chr&gt;</th><th scope=col>&lt;chr&gt;</th><th scope=col>&lt;chr&gt;</th><th scope=col>&lt;chr&gt;</th><th scope=col>&lt;fct&gt;</th></tr>\n",
       "</thead>\n",
       "<tbody>\n",
       "\t<tr><th scope=row>1</th><td>sunny   </td><td>hot </td><td>high  </td><td>false</td><td>no </td></tr>\n",
       "\t<tr><th scope=row>3</th><td>overcast</td><td>hot </td><td>high  </td><td>false</td><td>yes</td></tr>\n",
       "\t<tr><th scope=row>6</th><td>rainy   </td><td>cool</td><td>normal</td><td>true </td><td>no </td></tr>\n",
       "\t<tr><th scope=row>7</th><td>overcast</td><td>cool</td><td>normal</td><td>true </td><td>yes</td></tr>\n",
       "\t<tr><th scope=row>9</th><td>sunny   </td><td>cool</td><td>normal</td><td>false</td><td>yes</td></tr>\n",
       "\t<tr><th scope=row>10</th><td>rainy   </td><td>mild</td><td>normal</td><td>false</td><td>yes</td></tr>\n",
       "\t<tr><th scope=row>12</th><td>overcast</td><td>mild</td><td>high  </td><td>true </td><td>yes</td></tr>\n",
       "\t<tr><th scope=row>13</th><td>overcast</td><td>hot </td><td>normal</td><td>false</td><td>yes</td></tr>\n",
       "\t<tr><th scope=row>14</th><td>rainy   </td><td>mild</td><td>high  </td><td>true </td><td>no </td></tr>\n",
       "</tbody>\n",
       "</table>\n"
      ],
      "text/latex": [
       "A data.frame: 9 × 5\n",
       "\\begin{tabular}{r|lllll}\n",
       "  & Outlook & Temperature & Humidity & Windy & Play\\\\\n",
       "  & <chr> & <chr> & <chr> & <chr> & <fct>\\\\\n",
       "\\hline\n",
       "\t1 & sunny    & hot  & high   & false & no \\\\\n",
       "\t3 & overcast & hot  & high   & false & yes\\\\\n",
       "\t6 & rainy    & cool & normal & true  & no \\\\\n",
       "\t7 & overcast & cool & normal & true  & yes\\\\\n",
       "\t9 & sunny    & cool & normal & false & yes\\\\\n",
       "\t10 & rainy    & mild & normal & false & yes\\\\\n",
       "\t12 & overcast & mild & high   & true  & yes\\\\\n",
       "\t13 & overcast & hot  & normal & false & yes\\\\\n",
       "\t14 & rainy    & mild & high   & true  & no \\\\\n",
       "\\end{tabular}\n"
      ],
      "text/markdown": [
       "\n",
       "A data.frame: 9 × 5\n",
       "\n",
       "| <!--/--> | Outlook &lt;chr&gt; | Temperature &lt;chr&gt; | Humidity &lt;chr&gt; | Windy &lt;chr&gt; | Play &lt;fct&gt; |\n",
       "|---|---|---|---|---|---|\n",
       "| 1 | sunny    | hot  | high   | false | no  |\n",
       "| 3 | overcast | hot  | high   | false | yes |\n",
       "| 6 | rainy    | cool | normal | true  | no  |\n",
       "| 7 | overcast | cool | normal | true  | yes |\n",
       "| 9 | sunny    | cool | normal | false | yes |\n",
       "| 10 | rainy    | mild | normal | false | yes |\n",
       "| 12 | overcast | mild | high   | true  | yes |\n",
       "| 13 | overcast | hot  | normal | false | yes |\n",
       "| 14 | rainy    | mild | high   | true  | no  |\n",
       "\n"
      ],
      "text/plain": [
       "   Outlook  Temperature Humidity Windy Play\n",
       "1  sunny    hot         high     false no  \n",
       "3  overcast hot         high     false yes \n",
       "6  rainy    cool        normal   true  no  \n",
       "7  overcast cool        normal   true  yes \n",
       "9  sunny    cool        normal   false yes \n",
       "10 rainy    mild        normal   false yes \n",
       "12 overcast mild        high     true  yes \n",
       "13 overcast hot         normal   false yes \n",
       "14 rainy    mild        high     true  no  "
      ]
     },
     "metadata": {},
     "output_type": "display_data"
    }
   ],
   "source": [
    "View(golfTest)\n",
    "View(golfTrain)"
   ]
  },
  {
   "cell_type": "code",
   "execution_count": 28,
   "metadata": {
    "vscode": {
     "languageId": "r"
    }
   },
   "outputs": [
    {
     "name": "stdout",
     "output_type": "stream",
     "text": [
      "\n",
      "Naive Bayes Classifier for Discrete Predictors\n",
      "\n",
      "Call:\n",
      "naiveBayes.default(x = X, y = Y, laplace = laplace)\n",
      "\n",
      "A-priori probabilities:\n",
      "Y\n",
      "       no       yes \n",
      "0.3333333 0.6666667 \n",
      "\n",
      "Conditional probabilities:\n",
      "     Outlook\n",
      "Y      overcast     rainy     sunny\n",
      "  no  0.0000000 0.6666667 0.3333333\n",
      "  yes 0.6666667 0.1666667 0.1666667\n",
      "\n",
      "     Temperature\n",
      "Y          cool       hot      mild\n",
      "  no  0.3333333 0.3333333 0.3333333\n",
      "  yes 0.3333333 0.3333333 0.3333333\n",
      "\n",
      "     Humidity\n",
      "Y          high    normal\n",
      "  no  0.6666667 0.3333333\n",
      "  yes 0.3333333 0.6666667\n",
      "\n",
      "     Windy\n",
      "Y         false      true\n",
      "  no  0.3333333 0.6666667\n",
      "  yes 0.6666667 0.3333333\n",
      "\n"
     ]
    }
   ],
   "source": [
    "golfModel <- naiveBayes(Play~., data = golfTrain)\n",
    "print(golfModel)"
   ]
  },
  {
   "cell_type": "code",
   "execution_count": 29,
   "metadata": {
    "vscode": {
     "languageId": "r"
    }
   },
   "outputs": [],
   "source": [
    "prediction <- predict(golfModel, newdata = golfTest)\n",
    "prediction <- factor(prediction)"
   ]
  },
  {
   "cell_type": "code",
   "execution_count": 30,
   "metadata": {
    "vscode": {
     "languageId": "r"
    }
   },
   "outputs": [
    {
     "data": {
      "text/plain": [
       "Confusion Matrix and Statistics\n",
       "\n",
       "          Reference\n",
       "Prediction no yes\n",
       "       no   2   2\n",
       "       yes  0   1\n",
       "                                          \n",
       "               Accuracy : 0.6             \n",
       "                 95% CI : (0.1466, 0.9473)\n",
       "    No Information Rate : 0.6             \n",
       "    P-Value [Acc > NIR] : 0.6826          \n",
       "                                          \n",
       "                  Kappa : 0.2857          \n",
       "                                          \n",
       " Mcnemar's Test P-Value : 0.4795          \n",
       "                                          \n",
       "            Sensitivity : 1.0000          \n",
       "            Specificity : 0.3333          \n",
       "         Pos Pred Value : 0.5000          \n",
       "         Neg Pred Value : 1.0000          \n",
       "             Prevalence : 0.4000          \n",
       "         Detection Rate : 0.4000          \n",
       "   Detection Prevalence : 0.8000          \n",
       "      Balanced Accuracy : 0.6667          \n",
       "                                          \n",
       "       'Positive' Class : no              \n",
       "                                          "
      ]
     },
     "metadata": {},
     "output_type": "display_data"
    }
   ],
   "source": [
    "confusionMatrix(prediction, golfTest$Play)"
   ]
  },
  {
   "cell_type": "code",
   "execution_count": null,
   "metadata": {
    "vscode": {
     "languageId": "r"
    }
   },
   "outputs": [],
   "source": []
  }
 ],
 "metadata": {
  "kernelspec": {
   "display_name": "R",
   "language": "R",
   "name": "ir"
  },
  "language_info": {
   "codemirror_mode": "r",
   "file_extension": ".r",
   "mimetype": "text/x-r-source",
   "name": "R",
   "pygments_lexer": "r",
   "version": "4.2.3"
  },
  "orig_nbformat": 4
 },
 "nbformat": 4,
 "nbformat_minor": 2
}
