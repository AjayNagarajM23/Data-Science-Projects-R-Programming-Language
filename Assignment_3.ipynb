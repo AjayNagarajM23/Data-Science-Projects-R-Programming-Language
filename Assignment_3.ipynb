{
 "cells": [
  {
   "cell_type": "markdown",
   "metadata": {},
   "source": [
    "## Assignment 3\n",
    "#### IMPLEMENTATION ON CLASSIFICATION Using R"
   ]
  },
  {
   "attachments": {},
   "cell_type": "markdown",
   "metadata": {},
   "source": [
    "| Name | USN  | Class |\n",
    "|------|------|-------|\n",
    "|Ajay Nagaraj M  | 2SD19CS008| 8TH Sem CSE B Div|"
   ]
  },
  {
   "cell_type": "code",
   "execution_count": 1,
   "metadata": {
    "vscode": {
     "languageId": "r"
    }
   },
   "outputs": [
    {
     "data": {
      "text/html": [
       "<table class=\"dataframe\">\n",
       "<caption>A data.frame: 6 × 11</caption>\n",
       "<thead>\n",
       "\t<tr><th></th><th scope=col>Id</th><th scope=col>Cl.thickness</th><th scope=col>Cell.size</th><th scope=col>Cell.shape</th><th scope=col>Marg.adhesion</th><th scope=col>Epith.c.size</th><th scope=col>Bare.nuclei</th><th scope=col>Bl.cromatin</th><th scope=col>Normal.nucleoli</th><th scope=col>Mitoses</th><th scope=col>Class</th></tr>\n",
       "\t<tr><th></th><th scope=col>&lt;chr&gt;</th><th scope=col>&lt;ord&gt;</th><th scope=col>&lt;ord&gt;</th><th scope=col>&lt;ord&gt;</th><th scope=col>&lt;ord&gt;</th><th scope=col>&lt;ord&gt;</th><th scope=col>&lt;fct&gt;</th><th scope=col>&lt;fct&gt;</th><th scope=col>&lt;fct&gt;</th><th scope=col>&lt;fct&gt;</th><th scope=col>&lt;fct&gt;</th></tr>\n",
       "</thead>\n",
       "<tbody>\n",
       "\t<tr><th scope=row>1</th><td>1000025</td><td>5</td><td>1 </td><td>1 </td><td>1</td><td>2</td><td>1 </td><td>3</td><td>1</td><td>1</td><td>benign   </td></tr>\n",
       "\t<tr><th scope=row>2</th><td>1002945</td><td>5</td><td>4 </td><td>4 </td><td>5</td><td>7</td><td>10</td><td>3</td><td>2</td><td>1</td><td>benign   </td></tr>\n",
       "\t<tr><th scope=row>3</th><td>1015425</td><td>3</td><td>1 </td><td>1 </td><td>1</td><td>2</td><td>2 </td><td>3</td><td>1</td><td>1</td><td>benign   </td></tr>\n",
       "\t<tr><th scope=row>4</th><td>1016277</td><td>6</td><td>8 </td><td>8 </td><td>1</td><td>3</td><td>4 </td><td>3</td><td>7</td><td>1</td><td>benign   </td></tr>\n",
       "\t<tr><th scope=row>5</th><td>1017023</td><td>4</td><td>1 </td><td>1 </td><td>3</td><td>2</td><td>1 </td><td>3</td><td>1</td><td>1</td><td>benign   </td></tr>\n",
       "\t<tr><th scope=row>6</th><td>1017122</td><td>8</td><td>10</td><td>10</td><td>8</td><td>7</td><td>10</td><td>9</td><td>7</td><td>1</td><td>malignant</td></tr>\n",
       "</tbody>\n",
       "</table>\n"
      ],
      "text/latex": [
       "A data.frame: 6 × 11\n",
       "\\begin{tabular}{r|lllllllllll}\n",
       "  & Id & Cl.thickness & Cell.size & Cell.shape & Marg.adhesion & Epith.c.size & Bare.nuclei & Bl.cromatin & Normal.nucleoli & Mitoses & Class\\\\\n",
       "  & <chr> & <ord> & <ord> & <ord> & <ord> & <ord> & <fct> & <fct> & <fct> & <fct> & <fct>\\\\\n",
       "\\hline\n",
       "\t1 & 1000025 & 5 & 1  & 1  & 1 & 2 & 1  & 3 & 1 & 1 & benign   \\\\\n",
       "\t2 & 1002945 & 5 & 4  & 4  & 5 & 7 & 10 & 3 & 2 & 1 & benign   \\\\\n",
       "\t3 & 1015425 & 3 & 1  & 1  & 1 & 2 & 2  & 3 & 1 & 1 & benign   \\\\\n",
       "\t4 & 1016277 & 6 & 8  & 8  & 1 & 3 & 4  & 3 & 7 & 1 & benign   \\\\\n",
       "\t5 & 1017023 & 4 & 1  & 1  & 3 & 2 & 1  & 3 & 1 & 1 & benign   \\\\\n",
       "\t6 & 1017122 & 8 & 10 & 10 & 8 & 7 & 10 & 9 & 7 & 1 & malignant\\\\\n",
       "\\end{tabular}\n"
      ],
      "text/markdown": [
       "\n",
       "A data.frame: 6 × 11\n",
       "\n",
       "| <!--/--> | Id &lt;chr&gt; | Cl.thickness &lt;ord&gt; | Cell.size &lt;ord&gt; | Cell.shape &lt;ord&gt; | Marg.adhesion &lt;ord&gt; | Epith.c.size &lt;ord&gt; | Bare.nuclei &lt;fct&gt; | Bl.cromatin &lt;fct&gt; | Normal.nucleoli &lt;fct&gt; | Mitoses &lt;fct&gt; | Class &lt;fct&gt; |\n",
       "|---|---|---|---|---|---|---|---|---|---|---|---|\n",
       "| 1 | 1000025 | 5 | 1  | 1  | 1 | 2 | 1  | 3 | 1 | 1 | benign    |\n",
       "| 2 | 1002945 | 5 | 4  | 4  | 5 | 7 | 10 | 3 | 2 | 1 | benign    |\n",
       "| 3 | 1015425 | 3 | 1  | 1  | 1 | 2 | 2  | 3 | 1 | 1 | benign    |\n",
       "| 4 | 1016277 | 6 | 8  | 8  | 1 | 3 | 4  | 3 | 7 | 1 | benign    |\n",
       "| 5 | 1017023 | 4 | 1  | 1  | 3 | 2 | 1  | 3 | 1 | 1 | benign    |\n",
       "| 6 | 1017122 | 8 | 10 | 10 | 8 | 7 | 10 | 9 | 7 | 1 | malignant |\n",
       "\n"
      ],
      "text/plain": [
       "  Id      Cl.thickness Cell.size Cell.shape Marg.adhesion Epith.c.size\n",
       "1 1000025 5            1         1          1             2           \n",
       "2 1002945 5            4         4          5             7           \n",
       "3 1015425 3            1         1          1             2           \n",
       "4 1016277 6            8         8          1             3           \n",
       "5 1017023 4            1         1          3             2           \n",
       "6 1017122 8            10        10         8             7           \n",
       "  Bare.nuclei Bl.cromatin Normal.nucleoli Mitoses Class    \n",
       "1 1           3           1               1       benign   \n",
       "2 10          3           2               1       benign   \n",
       "3 2           3           1               1       benign   \n",
       "4 4           3           7               1       benign   \n",
       "5 1           3           1               1       benign   \n",
       "6 10          9           7               1       malignant"
      ]
     },
     "metadata": {},
     "output_type": "display_data"
    }
   ],
   "source": [
    "#Loading library  \n",
    "library(mlbench)  \n",
    "#Using BreastCancer dataset  \n",
    "data(BreastCancer, package = \"mlbench\")  \n",
    "breast_canc = BreastCancer[complete.cases(BreastCancer),]  \n",
    "#Displaying the information related to dataset with the head() function.  \n",
    "head(breast_canc)  "
   ]
  },
  {
   "cell_type": "code",
   "execution_count": 2,
   "metadata": {
    "vscode": {
     "languageId": "r"
    }
   },
   "outputs": [
    {
     "name": "stderr",
     "output_type": "stream",
     "text": [
      "Loading required package: ggplot2\n",
      "\n",
      "Loading required package: lattice\n",
      "\n",
      "\n",
      "Attaching package: ‘dplyr’\n",
      "\n",
      "\n",
      "The following objects are masked from ‘package:stats’:\n",
      "\n",
      "    filter, lag\n",
      "\n",
      "\n",
      "The following objects are masked from ‘package:base’:\n",
      "\n",
      "    intersect, setdiff, setequal, union\n",
      "\n",
      "\n"
     ]
    }
   ],
   "source": [
    "library(caret)\n",
    "library(dplyr)"
   ]
  },
  {
   "cell_type": "code",
   "execution_count": 3,
   "metadata": {
    "vscode": {
     "languageId": "r"
    }
   },
   "outputs": [],
   "source": [
    "data1 <- select(breast_canc, -Id)"
   ]
  },
  {
   "cell_type": "code",
   "execution_count": 4,
   "metadata": {
    "vscode": {
     "languageId": "r"
    }
   },
   "outputs": [
    {
     "data": {
      "text/html": [
       "<table class=\"dataframe\">\n",
       "<caption>A data.frame: 6 × 10</caption>\n",
       "<thead>\n",
       "\t<tr><th></th><th scope=col>Cl.thickness</th><th scope=col>Cell.size</th><th scope=col>Cell.shape</th><th scope=col>Marg.adhesion</th><th scope=col>Epith.c.size</th><th scope=col>Bare.nuclei</th><th scope=col>Bl.cromatin</th><th scope=col>Normal.nucleoli</th><th scope=col>Mitoses</th><th scope=col>Class</th></tr>\n",
       "\t<tr><th></th><th scope=col>&lt;ord&gt;</th><th scope=col>&lt;ord&gt;</th><th scope=col>&lt;ord&gt;</th><th scope=col>&lt;ord&gt;</th><th scope=col>&lt;ord&gt;</th><th scope=col>&lt;fct&gt;</th><th scope=col>&lt;fct&gt;</th><th scope=col>&lt;fct&gt;</th><th scope=col>&lt;fct&gt;</th><th scope=col>&lt;fct&gt;</th></tr>\n",
       "</thead>\n",
       "<tbody>\n",
       "\t<tr><th scope=row>1</th><td>5</td><td>1 </td><td>1 </td><td>1</td><td>2</td><td>1 </td><td>3</td><td>1</td><td>1</td><td>benign   </td></tr>\n",
       "\t<tr><th scope=row>2</th><td>5</td><td>4 </td><td>4 </td><td>5</td><td>7</td><td>10</td><td>3</td><td>2</td><td>1</td><td>benign   </td></tr>\n",
       "\t<tr><th scope=row>3</th><td>3</td><td>1 </td><td>1 </td><td>1</td><td>2</td><td>2 </td><td>3</td><td>1</td><td>1</td><td>benign   </td></tr>\n",
       "\t<tr><th scope=row>4</th><td>6</td><td>8 </td><td>8 </td><td>1</td><td>3</td><td>4 </td><td>3</td><td>7</td><td>1</td><td>benign   </td></tr>\n",
       "\t<tr><th scope=row>6</th><td>8</td><td>10</td><td>10</td><td>8</td><td>7</td><td>10</td><td>9</td><td>7</td><td>1</td><td>malignant</td></tr>\n",
       "\t<tr><th scope=row>8</th><td>2</td><td>1 </td><td>2 </td><td>1</td><td>2</td><td>1 </td><td>3</td><td>1</td><td>1</td><td>benign   </td></tr>\n",
       "</tbody>\n",
       "</table>\n"
      ],
      "text/latex": [
       "A data.frame: 6 × 10\n",
       "\\begin{tabular}{r|llllllllll}\n",
       "  & Cl.thickness & Cell.size & Cell.shape & Marg.adhesion & Epith.c.size & Bare.nuclei & Bl.cromatin & Normal.nucleoli & Mitoses & Class\\\\\n",
       "  & <ord> & <ord> & <ord> & <ord> & <ord> & <fct> & <fct> & <fct> & <fct> & <fct>\\\\\n",
       "\\hline\n",
       "\t1 & 5 & 1  & 1  & 1 & 2 & 1  & 3 & 1 & 1 & benign   \\\\\n",
       "\t2 & 5 & 4  & 4  & 5 & 7 & 10 & 3 & 2 & 1 & benign   \\\\\n",
       "\t3 & 3 & 1  & 1  & 1 & 2 & 2  & 3 & 1 & 1 & benign   \\\\\n",
       "\t4 & 6 & 8  & 8  & 1 & 3 & 4  & 3 & 7 & 1 & benign   \\\\\n",
       "\t6 & 8 & 10 & 10 & 8 & 7 & 10 & 9 & 7 & 1 & malignant\\\\\n",
       "\t8 & 2 & 1  & 2  & 1 & 2 & 1  & 3 & 1 & 1 & benign   \\\\\n",
       "\\end{tabular}\n"
      ],
      "text/markdown": [
       "\n",
       "A data.frame: 6 × 10\n",
       "\n",
       "| <!--/--> | Cl.thickness &lt;ord&gt; | Cell.size &lt;ord&gt; | Cell.shape &lt;ord&gt; | Marg.adhesion &lt;ord&gt; | Epith.c.size &lt;ord&gt; | Bare.nuclei &lt;fct&gt; | Bl.cromatin &lt;fct&gt; | Normal.nucleoli &lt;fct&gt; | Mitoses &lt;fct&gt; | Class &lt;fct&gt; |\n",
       "|---|---|---|---|---|---|---|---|---|---|---|\n",
       "| 1 | 5 | 1  | 1  | 1 | 2 | 1  | 3 | 1 | 1 | benign    |\n",
       "| 2 | 5 | 4  | 4  | 5 | 7 | 10 | 3 | 2 | 1 | benign    |\n",
       "| 3 | 3 | 1  | 1  | 1 | 2 | 2  | 3 | 1 | 1 | benign    |\n",
       "| 4 | 6 | 8  | 8  | 1 | 3 | 4  | 3 | 7 | 1 | benign    |\n",
       "| 6 | 8 | 10 | 10 | 8 | 7 | 10 | 9 | 7 | 1 | malignant |\n",
       "| 8 | 2 | 1  | 2  | 1 | 2 | 1  | 3 | 1 | 1 | benign    |\n",
       "\n"
      ],
      "text/plain": [
       "  Cl.thickness Cell.size Cell.shape Marg.adhesion Epith.c.size Bare.nuclei\n",
       "1 5            1         1          1             2            1          \n",
       "2 5            4         4          5             7            10         \n",
       "3 3            1         1          1             2            2          \n",
       "4 6            8         8          1             3            4          \n",
       "6 8            10        10         8             7            10         \n",
       "8 2            1         2          1             2            1          \n",
       "  Bl.cromatin Normal.nucleoli Mitoses Class    \n",
       "1 3           1               1       benign   \n",
       "2 3           2               1       benign   \n",
       "3 3           1               1       benign   \n",
       "4 3           7               1       benign   \n",
       "6 9           7               1       malignant\n",
       "8 3           1               1       benign   "
      ]
     },
     "metadata": {},
     "output_type": "display_data"
    },
    {
     "data": {
      "text/html": [
       "<table class=\"dataframe\">\n",
       "<caption>A data.frame: 6 × 10</caption>\n",
       "<thead>\n",
       "\t<tr><th></th><th scope=col>Cl.thickness</th><th scope=col>Cell.size</th><th scope=col>Cell.shape</th><th scope=col>Marg.adhesion</th><th scope=col>Epith.c.size</th><th scope=col>Bare.nuclei</th><th scope=col>Bl.cromatin</th><th scope=col>Normal.nucleoli</th><th scope=col>Mitoses</th><th scope=col>Class</th></tr>\n",
       "\t<tr><th></th><th scope=col>&lt;ord&gt;</th><th scope=col>&lt;ord&gt;</th><th scope=col>&lt;ord&gt;</th><th scope=col>&lt;ord&gt;</th><th scope=col>&lt;ord&gt;</th><th scope=col>&lt;fct&gt;</th><th scope=col>&lt;fct&gt;</th><th scope=col>&lt;fct&gt;</th><th scope=col>&lt;fct&gt;</th><th scope=col>&lt;fct&gt;</th></tr>\n",
       "</thead>\n",
       "<tbody>\n",
       "\t<tr><th scope=row>5</th><td>4</td><td>1</td><td>1</td><td>3</td><td>2</td><td>1 </td><td>3</td><td>1</td><td>1</td><td>benign   </td></tr>\n",
       "\t<tr><th scope=row>7</th><td>1</td><td>1</td><td>1</td><td>1</td><td>2</td><td>10</td><td>3</td><td>1</td><td>1</td><td>benign   </td></tr>\n",
       "\t<tr><th scope=row>9</th><td>2</td><td>1</td><td>1</td><td>1</td><td>2</td><td>1 </td><td>1</td><td>1</td><td>5</td><td>benign   </td></tr>\n",
       "\t<tr><th scope=row>10</th><td>4</td><td>2</td><td>1</td><td>1</td><td>2</td><td>1 </td><td>2</td><td>1</td><td>1</td><td>benign   </td></tr>\n",
       "\t<tr><th scope=row>11</th><td>1</td><td>1</td><td>1</td><td>1</td><td>1</td><td>1 </td><td>3</td><td>1</td><td>1</td><td>benign   </td></tr>\n",
       "\t<tr><th scope=row>13</th><td>5</td><td>3</td><td>3</td><td>3</td><td>2</td><td>3 </td><td>4</td><td>4</td><td>1</td><td>malignant</td></tr>\n",
       "</tbody>\n",
       "</table>\n"
      ],
      "text/latex": [
       "A data.frame: 6 × 10\n",
       "\\begin{tabular}{r|llllllllll}\n",
       "  & Cl.thickness & Cell.size & Cell.shape & Marg.adhesion & Epith.c.size & Bare.nuclei & Bl.cromatin & Normal.nucleoli & Mitoses & Class\\\\\n",
       "  & <ord> & <ord> & <ord> & <ord> & <ord> & <fct> & <fct> & <fct> & <fct> & <fct>\\\\\n",
       "\\hline\n",
       "\t5 & 4 & 1 & 1 & 3 & 2 & 1  & 3 & 1 & 1 & benign   \\\\\n",
       "\t7 & 1 & 1 & 1 & 1 & 2 & 10 & 3 & 1 & 1 & benign   \\\\\n",
       "\t9 & 2 & 1 & 1 & 1 & 2 & 1  & 1 & 1 & 5 & benign   \\\\\n",
       "\t10 & 4 & 2 & 1 & 1 & 2 & 1  & 2 & 1 & 1 & benign   \\\\\n",
       "\t11 & 1 & 1 & 1 & 1 & 1 & 1  & 3 & 1 & 1 & benign   \\\\\n",
       "\t13 & 5 & 3 & 3 & 3 & 2 & 3  & 4 & 4 & 1 & malignant\\\\\n",
       "\\end{tabular}\n"
      ],
      "text/markdown": [
       "\n",
       "A data.frame: 6 × 10\n",
       "\n",
       "| <!--/--> | Cl.thickness &lt;ord&gt; | Cell.size &lt;ord&gt; | Cell.shape &lt;ord&gt; | Marg.adhesion &lt;ord&gt; | Epith.c.size &lt;ord&gt; | Bare.nuclei &lt;fct&gt; | Bl.cromatin &lt;fct&gt; | Normal.nucleoli &lt;fct&gt; | Mitoses &lt;fct&gt; | Class &lt;fct&gt; |\n",
       "|---|---|---|---|---|---|---|---|---|---|---|\n",
       "| 5 | 4 | 1 | 1 | 3 | 2 | 1  | 3 | 1 | 1 | benign    |\n",
       "| 7 | 1 | 1 | 1 | 1 | 2 | 10 | 3 | 1 | 1 | benign    |\n",
       "| 9 | 2 | 1 | 1 | 1 | 2 | 1  | 1 | 1 | 5 | benign    |\n",
       "| 10 | 4 | 2 | 1 | 1 | 2 | 1  | 2 | 1 | 1 | benign    |\n",
       "| 11 | 1 | 1 | 1 | 1 | 1 | 1  | 3 | 1 | 1 | benign    |\n",
       "| 13 | 5 | 3 | 3 | 3 | 2 | 3  | 4 | 4 | 1 | malignant |\n",
       "\n"
      ],
      "text/plain": [
       "   Cl.thickness Cell.size Cell.shape Marg.adhesion Epith.c.size Bare.nuclei\n",
       "5  4            1         1          3             2            1          \n",
       "7  1            1         1          1             2            10         \n",
       "9  2            1         1          1             2            1          \n",
       "10 4            2         1          1             2            1          \n",
       "11 1            1         1          1             1            1          \n",
       "13 5            3         3          3             2            3          \n",
       "   Bl.cromatin Normal.nucleoli Mitoses Class    \n",
       "5  3           1               1       benign   \n",
       "7  3           1               1       benign   \n",
       "9  1           1               5       benign   \n",
       "10 2           1               1       benign   \n",
       "11 3           1               1       benign   \n",
       "13 4           4               1       malignant"
      ]
     },
     "metadata": {},
     "output_type": "display_data"
    }
   ],
   "source": [
    "#Dividing dataset into training and test dataset.  \n",
    "set.seed(100)  \n",
    "#Creating partitioning.  \n",
    "Training_Ratio <- createDataPartition(data1$Class, p=0.7, list = F)  \n",
    "#Creating training data.  \n",
    "Training_Data <- data1[Training_Ratio, ]  \n",
    "head(Training_Data)  \n",
    "#Creating test data.  \n",
    "Test_Data <- data1[-Training_Ratio, ]  \n",
    "head(Test_Data)  "
   ]
  },
  {
   "cell_type": "code",
   "execution_count": 5,
   "metadata": {
    "vscode": {
     "languageId": "r"
    }
   },
   "outputs": [],
   "source": [
    "\n",
    "model <- train(Class ~ ., method='knn', data = Training_Data, metric='Accuracy')"
   ]
  },
  {
   "cell_type": "code",
   "execution_count": 6,
   "metadata": {
    "vscode": {
     "languageId": "r"
    }
   },
   "outputs": [
    {
     "data": {
      "text/html": [
       "<style>\n",
       ".list-inline {list-style: none; margin:0; padding: 0}\n",
       ".list-inline>li {display: inline-block}\n",
       ".list-inline>li:not(:last-child)::after {content: \"\\00b7\"; padding: 0 .5ex}\n",
       "</style>\n",
       "<ol class=list-inline><li>204</li><li>10</li></ol>\n"
      ],
      "text/latex": [
       "\\begin{enumerate*}\n",
       "\\item 204\n",
       "\\item 10\n",
       "\\end{enumerate*}\n"
      ],
      "text/markdown": [
       "1. 204\n",
       "2. 10\n",
       "\n",
       "\n"
      ],
      "text/plain": [
       "[1] 204  10"
      ]
     },
     "metadata": {},
     "output_type": "display_data"
    }
   ],
   "source": [
    "dim(Test_Data)"
   ]
  },
  {
   "cell_type": "code",
   "execution_count": 7,
   "metadata": {
    "vscode": {
     "languageId": "r"
    }
   },
   "outputs": [],
   "source": [
    "predict <- predict(model, Test_Data)"
   ]
  },
  {
   "cell_type": "code",
   "execution_count": 8,
   "metadata": {
    "vscode": {
     "languageId": "r"
    }
   },
   "outputs": [],
   "source": [
    "predict <- as.factor(predict)\n",
    "truth <- as.factor(Test_Data$Class)"
   ]
  },
  {
   "cell_type": "code",
   "execution_count": 9,
   "metadata": {
    "vscode": {
     "languageId": "r"
    }
   },
   "outputs": [
    {
     "data": {
      "text/html": [
       "0.984962406015038"
      ],
      "text/latex": [
       "0.984962406015038"
      ],
      "text/markdown": [
       "0.984962406015038"
      ],
      "text/plain": [
       "[1] 0.9849624"
      ]
     },
     "metadata": {},
     "output_type": "display_data"
    }
   ],
   "source": [
    "precision <- posPredValue(truth, predict)\n",
    "precision"
   ]
  },
  {
   "cell_type": "code",
   "execution_count": 10,
   "metadata": {
    "vscode": {
     "languageId": "r"
    }
   },
   "outputs": [
    {
     "data": {
      "text/plain": [
       "Confusion Matrix and Statistics\n",
       "\n",
       "           Reference\n",
       "Prediction  benign malignant\n",
       "  benign       131        13\n",
       "  malignant      2        58\n",
       "                                          \n",
       "               Accuracy : 0.9265          \n",
       "                 95% CI : (0.8816, 0.9583)\n",
       "    No Information Rate : 0.652           \n",
       "    P-Value [Acc > NIR] : < 2.2e-16       \n",
       "                                          \n",
       "                  Kappa : 0.8319          \n",
       "                                          \n",
       " Mcnemar's Test P-Value : 0.009823        \n",
       "                                          \n",
       "            Sensitivity : 0.9850          \n",
       "            Specificity : 0.8169          \n",
       "         Pos Pred Value : 0.9097          \n",
       "         Neg Pred Value : 0.9667          \n",
       "             Prevalence : 0.6520          \n",
       "         Detection Rate : 0.6422          \n",
       "   Detection Prevalence : 0.7059          \n",
       "      Balanced Accuracy : 0.9009          \n",
       "                                          \n",
       "       'Positive' Class : benign          \n",
       "                                          "
      ]
     },
     "metadata": {},
     "output_type": "display_data"
    }
   ],
   "source": [
    "cm <- confusionMatrix(predict, Test_Data$Class)\n",
    "cm"
   ]
  },
  {
   "attachments": {},
   "cell_type": "markdown",
   "metadata": {},
   "source": [
    "#### Testing Sample Data"
   ]
  },
  {
   "cell_type": "code",
   "execution_count": 11,
   "metadata": {
    "vscode": {
     "languageId": "r"
    }
   },
   "outputs": [],
   "source": [
    "sample <- Test_Data[1,]"
   ]
  },
  {
   "cell_type": "code",
   "execution_count": 12,
   "metadata": {
    "vscode": {
     "languageId": "r"
    }
   },
   "outputs": [
    {
     "data": {
      "text/html": [
       "benign\n",
       "<details>\n",
       "\t<summary style=display:list-item;cursor:pointer>\n",
       "\t\t<strong>Levels</strong>:\n",
       "\t</summary>\n",
       "\t<style>\n",
       "\t.list-inline {list-style: none; margin:0; padding: 0}\n",
       "\t.list-inline>li {display: inline-block}\n",
       "\t.list-inline>li:not(:last-child)::after {content: \"\\00b7\"; padding: 0 .5ex}\n",
       "\t</style>\n",
       "\t<ol class=list-inline><li>'benign'</li><li>'malignant'</li></ol>\n",
       "</details>"
      ],
      "text/latex": [
       "benign\n",
       "\\emph{Levels}: \\begin{enumerate*}\n",
       "\\item 'benign'\n",
       "\\item 'malignant'\n",
       "\\end{enumerate*}\n"
      ],
      "text/markdown": [
       "benign\n",
       "**Levels**: 1. 'benign'\n",
       "2. 'malignant'\n",
       "\n",
       "\n"
      ],
      "text/plain": [
       "[1] benign\n",
       "Levels: benign malignant"
      ]
     },
     "metadata": {},
     "output_type": "display_data"
    }
   ],
   "source": [
    "predict(model, sample)"
   ]
  },
  {
   "cell_type": "code",
   "execution_count": null,
   "metadata": {
    "vscode": {
     "languageId": "r"
    }
   },
   "outputs": [],
   "source": []
  }
 ],
 "metadata": {
  "kernelspec": {
   "display_name": "R",
   "language": "R",
   "name": "ir"
  },
  "language_info": {
   "codemirror_mode": "r",
   "file_extension": ".r",
   "mimetype": "text/x-r-source",
   "name": "R",
   "pygments_lexer": "r",
   "version": "4.2.3"
  },
  "orig_nbformat": 4,
  "vscode": {
   "interpreter": {
    "hash": "916dbcbb3f70747c44a77c7bcd40155683ae19c65e1c03b4aa3499c5328201f1"
   }
  }
 },
 "nbformat": 4,
 "nbformat_minor": 2
}
